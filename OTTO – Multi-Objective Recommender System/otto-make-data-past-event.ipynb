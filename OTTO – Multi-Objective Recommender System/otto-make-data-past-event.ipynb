{
 "cells": [
  {
   "cell_type": "markdown",
   "id": "a0338e7e",
   "metadata": {
    "papermill": {
     "duration": 0.003337,
     "end_time": "2023-01-15T08:20:59.385100",
     "exception": false,
     "start_time": "2023-01-15T08:20:59.381763",
     "status": "completed"
    },
    "tags": []
   },
   "source": [
    "過去event+アソシエーションルール+人気"
   ]
  },
  {
   "cell_type": "code",
   "execution_count": 1,
   "id": "312e7de7",
   "metadata": {
    "_cell_guid": "b1076dfc-b9ad-4769-8c92-a6c4dae69d19",
    "_uuid": "8f2839f25d086af736a60e9eeb907d3b93b6e0e5",
    "execution": {
     "iopub.execute_input": "2023-01-15T08:20:59.392737Z",
     "iopub.status.busy": "2023-01-15T08:20:59.391872Z",
     "iopub.status.idle": "2023-01-15T08:20:59.494317Z",
     "shell.execute_reply": "2023-01-15T08:20:59.493387Z"
    },
    "papermill": {
     "duration": 0.108931,
     "end_time": "2023-01-15T08:20:59.496878",
     "exception": false,
     "start_time": "2023-01-15T08:20:59.387947",
     "status": "completed"
    },
    "tags": []
   },
   "outputs": [],
   "source": [
    "import pandas as pd\n",
    "import json\n",
    "from tqdm.notebook import tqdm\n",
    "import random\n",
    "random.seed(64)"
   ]
  },
  {
   "cell_type": "code",
   "execution_count": 2,
   "id": "1cde450f",
   "metadata": {
    "execution": {
     "iopub.execute_input": "2023-01-15T08:20:59.504169Z",
     "iopub.status.busy": "2023-01-15T08:20:59.503584Z",
     "iopub.status.idle": "2023-01-15T08:20:59.509308Z",
     "shell.execute_reply": "2023-01-15T08:20:59.508710Z"
    },
    "papermill": {
     "duration": 0.011587,
     "end_time": "2023-01-15T08:20:59.511275",
     "exception": false,
     "start_time": "2023-01-15T08:20:59.499688",
     "status": "completed"
    },
    "tags": []
   },
   "outputs": [],
   "source": [
    "path_input = {}\n",
    "path_output_event = {}\n",
    "path_output_popul = {}\n",
    "path_output_assoc = {}\n",
    "\n",
    "for i in [\"train1\", \"valid\"]:\n",
    "    path_input[i] = f\"/kaggle/input/otto-make-data-train-test-split/{i}.jsonl\"\n",
    "    path_output_event[i] = f\"past_event_{i}.pickle\"\n",
    "    path_output_popul[i] = f\"population_{i}.pickle\"\n",
    "    path_output_assoc[i] = f\"association_{i}.pickle\"\n",
    "    \n",
    "path_input_assoc = {}\n",
    "for i in [\"clicks\", \"carts\", \"orders\"]:\n",
    "    path_input_assoc[i]= f\"/kaggle/input/otto-cf-association-{i}/association_rules_{i}.pickle\"\n",
    "    \n",
    "sample_size = 150000\n",
    "num_top_item = 10 # 上位いくつまでのitemを候補とするか\n",
    "debug = False\n",
    "\n",
    "n_session = {\"train1\": 2237925, \"valid\": 1735763}"
   ]
  },
  {
   "cell_type": "code",
   "execution_count": 3,
   "id": "4984e033",
   "metadata": {
    "execution": {
     "iopub.execute_input": "2023-01-15T08:20:59.518355Z",
     "iopub.status.busy": "2023-01-15T08:20:59.517904Z",
     "iopub.status.idle": "2023-01-15T08:20:59.552058Z",
     "shell.execute_reply": "2023-01-15T08:20:59.551155Z"
    },
    "papermill": {
     "duration": 0.039798,
     "end_time": "2023-01-15T08:20:59.553979",
     "exception": false,
     "start_time": "2023-01-15T08:20:59.514181",
     "status": "completed"
    },
    "tags": []
   },
   "outputs": [
    {
     "data": {
      "text/plain": [
       "array([[frozenset({756588}), frozenset({231487}), 8.00701517845958e-05,\n",
       "        0.23396226415094343, 469.3313324860691],\n",
       "       [frozenset({231487}), frozenset({756588}), 8.00701517845958e-05,\n",
       "        0.16062176165803108, 469.331332486069],\n",
       "       [frozenset({231487}), frozenset({1111967}),\n",
       "        1.0331632488334942e-05, 0.02072538860103627, 98.45462347817795],\n",
       "       ...,\n",
       "       [frozenset({150889}), frozenset({202224, 933686, 1446430}),\n",
       "        2.3246173098753617e-05, 0.30508474576271183, 7874.450847457627],\n",
       "       [frozenset({202224}), frozenset({150889, 933686, 1446430}),\n",
       "        2.3246173098753617e-05, 0.3157894736842105, 8150.747368421053],\n",
       "       [frozenset({1446430}), frozenset({202224, 150889, 933686}),\n",
       "        2.3246173098753617e-05, 0.29508196721311475, 11424.408196721311]],\n",
       "      dtype=object)"
      ]
     },
     "execution_count": 3,
     "metadata": {},
     "output_type": "execute_result"
    }
   ],
   "source": [
    "# アソシエーションルール\n",
    "assoc = {}\n",
    "for i in [\"clicks\", \"carts\", \"orders\"]:\n",
    "    assoc[i] = pd.read_pickle(path_input_assoc[i]).values\n",
    "assoc[\"orders\"]"
   ]
  },
  {
   "cell_type": "code",
   "execution_count": 4,
   "id": "e0b5180d",
   "metadata": {
    "execution": {
     "iopub.execute_input": "2023-01-15T08:20:59.561476Z",
     "iopub.status.busy": "2023-01-15T08:20:59.561098Z",
     "iopub.status.idle": "2023-01-15T08:42:23.511258Z",
     "shell.execute_reply": "2023-01-15T08:42:23.510407Z"
    },
    "papermill": {
     "duration": 1283.956889,
     "end_time": "2023-01-15T08:42:23.513772",
     "exception": false,
     "start_time": "2023-01-15T08:20:59.556883",
     "status": "completed"
    },
    "tags": []
   },
   "outputs": [
    {
     "data": {
      "application/vnd.jupyter.widget-view+json": {
       "model_id": "8d06534ceb774662afd5e8d2e8cbbbfb",
       "version_major": 2,
       "version_minor": 0
      },
      "text/plain": [
       "  0%|          | 0/15 [00:00<?, ?it/s]"
      ]
     },
     "metadata": {},
     "output_type": "display_data"
    },
    {
     "data": {
      "application/vnd.jupyter.widget-view+json": {
       "model_id": "00a5e54958ea44dd8e231f8f11b84d2c",
       "version_major": 2,
       "version_minor": 0
      },
      "text/plain": [
       "  0%|          | 0/12 [00:00<?, ?it/s]"
      ]
     },
     "metadata": {},
     "output_type": "display_data"
    }
   ],
   "source": [
    "# event実績のあるaid+アソシエーションルールに該当するaid\n",
    "for i in [\"train1\", \"valid\"]:\n",
    "    dict_count = {\"clicks\": {}, \"carts\": {}, \"orders\": {}}\n",
    "    dict_past_event = {\"clicks\": {}, \"carts\": {}, \"orders\": {}}\n",
    "    dict_assoc = {\"clicks\": {}, \"carts\": {}, \"orders\": {}}\n",
    "    chunks = pd.read_json(path_input[i], lines = True, chunksize = sample_size)\n",
    "    for df_chunk in tqdm(chunks, total = n_session[i]//sample_size+1):\n",
    "        for j, session in df_chunk.iterrows():\n",
    "            session = session.to_dict()\n",
    "            list_event = session[\"events\"][:session[\"cutoff\"]] # cutoff以前のeventのみ使える\n",
    "            # 各aidの発生回数をカウント\n",
    "            for event in list_event:\n",
    "                dict_count[event[\"type\"]][event[\"aid\"]] = dict_count[event[\"type\"]].get(event[\"aid\"], 0) + 1\n",
    "            # セッションごとの実績aid\n",
    "            for types in [\"clicks\", \"carts\", \"orders\"]:\n",
    "                dict_past_event[types][session[\"session\"]] = list(set([event[\"aid\"] for event in list_event if event[\"type\"] == types]))\n",
    "            list_aid = list(set([event[\"aid\"] for event in list_event]))\n",
    "            set_aid = set(list_aid)\n",
    "            # event実績のあるaid+アソシエーションルール\n",
    "            for types in [\"clicks\", \"carts\", \"orders\"]:\n",
    "                # アソシエーションルール\n",
    "                list_assoc = assoc[types][assoc[types][:,0] <= set_aid, 1]\n",
    "                dict_assoc[types][session[\"session\"]] = list(set(sum([list(x) for x in list_assoc], [])))\n",
    "            if debug: break\n",
    "        if debug: break\n",
    "    if debug: break\n",
    "    # event_typeごとに回数の多い順にソートしてkeyだけ取り出す\n",
    "    dict_popul = {}\n",
    "    for types in [\"clicks\", \"carts\", \"orders\"]:\n",
    "        dict_popul[types] = [j[0] for j in sorted(dict_count[types].items(), key = lambda x : x[1], reverse = True)]\n",
    "        dict_popul[types] = dict_popul[types][:num_top_item]\n",
    "    pd.to_pickle(dict_popul, path_output_popul[i])\n",
    "    pd.to_pickle(dict_past_event, path_output_event[i])\n",
    "    pd.to_pickle(dict_assoc, path_output_assoc[i])    "
   ]
  },
  {
   "cell_type": "code",
   "execution_count": 5,
   "id": "2f3c4b4c",
   "metadata": {
    "execution": {
     "iopub.execute_input": "2023-01-15T08:42:23.523342Z",
     "iopub.status.busy": "2023-01-15T08:42:23.522847Z",
     "iopub.status.idle": "2023-01-15T08:42:23.529355Z",
     "shell.execute_reply": "2023-01-15T08:42:23.528750Z"
    },
    "papermill": {
     "duration": 0.013306,
     "end_time": "2023-01-15T08:42:23.531123",
     "exception": false,
     "start_time": "2023-01-15T08:42:23.517817",
     "status": "completed"
    },
    "tags": []
   },
   "outputs": [],
   "source": [
    "def process_session():\n",
    "            list_event = session[\"events\"][:session[\"cutoff\"]] # cutoff以前のeventのみ使える\n",
    "            # 各aidの発生回数をカウント\n",
    "            for event in list_event:\n",
    "                dict_count[event[\"type\"]][event[\"aid\"]] = dict_count[event[\"type\"]].get(event[\"aid\"], 0) + 1\n",
    "            # セッションごとの実績aid\n",
    "            list_aid = list(set([event[\"aid\"] for event in list_event]))\n",
    "            dict_past_event[session[\"session\"]] = list_aid\n",
    "            set_aid = set(list_aid)\n",
    "            # event実績のあるaid+アソシエーションルール\n",
    "            for types in [\"clicks\", \"carts\", \"orders\"]:\n",
    "                # アソシエーションルール\n",
    "                list_assoc = arr[arr[:,0] <= set_aid, 1]\n",
    "                dict_assoc[types][session[\"session\"]] = list(set(sum([list(x) for x in list_assoc], [])))\n"
   ]
  },
  {
   "cell_type": "code",
   "execution_count": 6,
   "id": "22bf91a7",
   "metadata": {
    "execution": {
     "iopub.execute_input": "2023-01-15T08:42:23.540182Z",
     "iopub.status.busy": "2023-01-15T08:42:23.539677Z",
     "iopub.status.idle": "2023-01-15T08:42:23.544096Z",
     "shell.execute_reply": "2023-01-15T08:42:23.543073Z"
    },
    "papermill": {
     "duration": 0.011085,
     "end_time": "2023-01-15T08:42:23.545868",
     "exception": false,
     "start_time": "2023-01-15T08:42:23.534783",
     "status": "completed"
    },
    "tags": []
   },
   "outputs": [],
   "source": [
    "if debug:\n",
    "    import line_profiler\n",
    "    pr = line_profiler.LineProfiler()#LineProfilerクラスのインスタンス生成\n",
    "    pr.add_function(process_session)#対象の関数をadd_functionで登録\n",
    "    pr.runcall(process_session)#runcallで実行\n",
    "    pr.print_stats()#結果を表示"
   ]
  },
  {
   "cell_type": "code",
   "execution_count": null,
   "id": "3ee8480f",
   "metadata": {
    "papermill": {
     "duration": 0.003398,
     "end_time": "2023-01-15T08:42:23.552837",
     "exception": false,
     "start_time": "2023-01-15T08:42:23.549439",
     "status": "completed"
    },
    "tags": []
   },
   "outputs": [],
   "source": []
  },
  {
   "cell_type": "code",
   "execution_count": null,
   "id": "08dc911d",
   "metadata": {
    "papermill": {
     "duration": 0.00369,
     "end_time": "2023-01-15T08:42:23.560004",
     "exception": false,
     "start_time": "2023-01-15T08:42:23.556314",
     "status": "completed"
    },
    "tags": []
   },
   "outputs": [],
   "source": []
  },
  {
   "cell_type": "code",
   "execution_count": null,
   "id": "487ef71b",
   "metadata": {
    "papermill": {
     "duration": 0.002736,
     "end_time": "2023-01-15T08:42:23.565985",
     "exception": false,
     "start_time": "2023-01-15T08:42:23.563249",
     "status": "completed"
    },
    "tags": []
   },
   "outputs": [],
   "source": []
  }
 ],
 "metadata": {
  "kernelspec": {
   "display_name": "Python 3",
   "language": "python",
   "name": "python3"
  },
  "language_info": {
   "codemirror_mode": {
    "name": "ipython",
    "version": 3
   },
   "file_extension": ".py",
   "mimetype": "text/x-python",
   "name": "python",
   "nbconvert_exporter": "python",
   "pygments_lexer": "ipython3",
   "version": "3.7.12"
  },
  "papermill": {
   "default_parameters": {},
   "duration": 1294.176708,
   "end_time": "2023-01-15T08:42:26.392132",
   "environment_variables": {},
   "exception": null,
   "input_path": "__notebook__.ipynb",
   "output_path": "__notebook__.ipynb",
   "parameters": {},
   "start_time": "2023-01-15T08:20:52.215424",
   "version": "2.3.4"
  },
  "widgets": {
   "application/vnd.jupyter.widget-state+json": {
    "state": {
     "00a5e54958ea44dd8e231f8f11b84d2c": {
      "model_module": "@jupyter-widgets/controls",
      "model_module_version": "1.5.0",
      "model_name": "HBoxModel",
      "state": {
       "_dom_classes": [],
       "_model_module": "@jupyter-widgets/controls",
       "_model_module_version": "1.5.0",
       "_model_name": "HBoxModel",
       "_view_count": null,
       "_view_module": "@jupyter-widgets/controls",
       "_view_module_version": "1.5.0",
       "_view_name": "HBoxView",
       "box_style": "",
       "children": [
        "IPY_MODEL_a38487aea3674cdaa7a1e9da9169a1f5",
        "IPY_MODEL_433f11057364430cae5b8a2e1d0ae291",
        "IPY_MODEL_0658c27b2f23415c8416b3d217b1c187"
       ],
       "layout": "IPY_MODEL_29209467dc1a400db471957854ea39ce"
      }
     },
     "0658c27b2f23415c8416b3d217b1c187": {
      "model_module": "@jupyter-widgets/controls",
      "model_module_version": "1.5.0",
      "model_name": "HTMLModel",
      "state": {
       "_dom_classes": [],
       "_model_module": "@jupyter-widgets/controls",
       "_model_module_version": "1.5.0",
       "_model_name": "HTMLModel",
       "_view_count": null,
       "_view_module": "@jupyter-widgets/controls",
       "_view_module_version": "1.5.0",
       "_view_name": "HTMLView",
       "description": "",
       "description_tooltip": null,
       "layout": "IPY_MODEL_5cf8924ef092495bab0d40c4b7addcb9",
       "placeholder": "​",
       "style": "IPY_MODEL_4458e57645c449649f6182ea64af25e9",
       "value": " 12/12 [09:19&lt;00:00, 44.88s/it]"
      }
     },
     "06c2cfcf397147a3b951e5206b141329": {
      "model_module": "@jupyter-widgets/controls",
      "model_module_version": "1.5.0",
      "model_name": "FloatProgressModel",
      "state": {
       "_dom_classes": [],
       "_model_module": "@jupyter-widgets/controls",
       "_model_module_version": "1.5.0",
       "_model_name": "FloatProgressModel",
       "_view_count": null,
       "_view_module": "@jupyter-widgets/controls",
       "_view_module_version": "1.5.0",
       "_view_name": "ProgressView",
       "bar_style": "success",
       "description": "",
       "description_tooltip": null,
       "layout": "IPY_MODEL_54e1b27b2c6f451ba21f4b035a253ca8",
       "max": 15.0,
       "min": 0.0,
       "orientation": "horizontal",
       "style": "IPY_MODEL_d38c5986b300463eabcc22a0bb6f3cef",
       "value": 15.0
      }
     },
     "19ac1b7ab53a483f8da7034fbcc22893": {
      "model_module": "@jupyter-widgets/base",
      "model_module_version": "1.2.0",
      "model_name": "LayoutModel",
      "state": {
       "_model_module": "@jupyter-widgets/base",
       "_model_module_version": "1.2.0",
       "_model_name": "LayoutModel",
       "_view_count": null,
       "_view_module": "@jupyter-widgets/base",
       "_view_module_version": "1.2.0",
       "_view_name": "LayoutView",
       "align_content": null,
       "align_items": null,
       "align_self": null,
       "border": null,
       "bottom": null,
       "display": null,
       "flex": null,
       "flex_flow": null,
       "grid_area": null,
       "grid_auto_columns": null,
       "grid_auto_flow": null,
       "grid_auto_rows": null,
       "grid_column": null,
       "grid_gap": null,
       "grid_row": null,
       "grid_template_areas": null,
       "grid_template_columns": null,
       "grid_template_rows": null,
       "height": null,
       "justify_content": null,
       "justify_items": null,
       "left": null,
       "margin": null,
       "max_height": null,
       "max_width": null,
       "min_height": null,
       "min_width": null,
       "object_fit": null,
       "object_position": null,
       "order": null,
       "overflow": null,
       "overflow_x": null,
       "overflow_y": null,
       "padding": null,
       "right": null,
       "top": null,
       "visibility": null,
       "width": null
      }
     },
     "29209467dc1a400db471957854ea39ce": {
      "model_module": "@jupyter-widgets/base",
      "model_module_version": "1.2.0",
      "model_name": "LayoutModel",
      "state": {
       "_model_module": "@jupyter-widgets/base",
       "_model_module_version": "1.2.0",
       "_model_name": "LayoutModel",
       "_view_count": null,
       "_view_module": "@jupyter-widgets/base",
       "_view_module_version": "1.2.0",
       "_view_name": "LayoutView",
       "align_content": null,
       "align_items": null,
       "align_self": null,
       "border": null,
       "bottom": null,
       "display": null,
       "flex": null,
       "flex_flow": null,
       "grid_area": null,
       "grid_auto_columns": null,
       "grid_auto_flow": null,
       "grid_auto_rows": null,
       "grid_column": null,
       "grid_gap": null,
       "grid_row": null,
       "grid_template_areas": null,
       "grid_template_columns": null,
       "grid_template_rows": null,
       "height": null,
       "justify_content": null,
       "justify_items": null,
       "left": null,
       "margin": null,
       "max_height": null,
       "max_width": null,
       "min_height": null,
       "min_width": null,
       "object_fit": null,
       "object_position": null,
       "order": null,
       "overflow": null,
       "overflow_x": null,
       "overflow_y": null,
       "padding": null,
       "right": null,
       "top": null,
       "visibility": null,
       "width": null
      }
     },
     "3a06870d8d5147238e9236312e8ad915": {
      "model_module": "@jupyter-widgets/controls",
      "model_module_version": "1.5.0",
      "model_name": "ProgressStyleModel",
      "state": {
       "_model_module": "@jupyter-widgets/controls",
       "_model_module_version": "1.5.0",
       "_model_name": "ProgressStyleModel",
       "_view_count": null,
       "_view_module": "@jupyter-widgets/base",
       "_view_module_version": "1.2.0",
       "_view_name": "StyleView",
       "bar_color": null,
       "description_width": ""
      }
     },
     "433f11057364430cae5b8a2e1d0ae291": {
      "model_module": "@jupyter-widgets/controls",
      "model_module_version": "1.5.0",
      "model_name": "FloatProgressModel",
      "state": {
       "_dom_classes": [],
       "_model_module": "@jupyter-widgets/controls",
       "_model_module_version": "1.5.0",
       "_model_name": "FloatProgressModel",
       "_view_count": null,
       "_view_module": "@jupyter-widgets/controls",
       "_view_module_version": "1.5.0",
       "_view_name": "ProgressView",
       "bar_style": "success",
       "description": "",
       "description_tooltip": null,
       "layout": "IPY_MODEL_7f29c559abf2461592a0f41bf21f2445",
       "max": 12.0,
       "min": 0.0,
       "orientation": "horizontal",
       "style": "IPY_MODEL_3a06870d8d5147238e9236312e8ad915",
       "value": 12.0
      }
     },
     "4458e57645c449649f6182ea64af25e9": {
      "model_module": "@jupyter-widgets/controls",
      "model_module_version": "1.5.0",
      "model_name": "DescriptionStyleModel",
      "state": {
       "_model_module": "@jupyter-widgets/controls",
       "_model_module_version": "1.5.0",
       "_model_name": "DescriptionStyleModel",
       "_view_count": null,
       "_view_module": "@jupyter-widgets/base",
       "_view_module_version": "1.2.0",
       "_view_name": "StyleView",
       "description_width": ""
      }
     },
     "460b7d3334e1486c864c5ad450ed1672": {
      "model_module": "@jupyter-widgets/base",
      "model_module_version": "1.2.0",
      "model_name": "LayoutModel",
      "state": {
       "_model_module": "@jupyter-widgets/base",
       "_model_module_version": "1.2.0",
       "_model_name": "LayoutModel",
       "_view_count": null,
       "_view_module": "@jupyter-widgets/base",
       "_view_module_version": "1.2.0",
       "_view_name": "LayoutView",
       "align_content": null,
       "align_items": null,
       "align_self": null,
       "border": null,
       "bottom": null,
       "display": null,
       "flex": null,
       "flex_flow": null,
       "grid_area": null,
       "grid_auto_columns": null,
       "grid_auto_flow": null,
       "grid_auto_rows": null,
       "grid_column": null,
       "grid_gap": null,
       "grid_row": null,
       "grid_template_areas": null,
       "grid_template_columns": null,
       "grid_template_rows": null,
       "height": null,
       "justify_content": null,
       "justify_items": null,
       "left": null,
       "margin": null,
       "max_height": null,
       "max_width": null,
       "min_height": null,
       "min_width": null,
       "object_fit": null,
       "object_position": null,
       "order": null,
       "overflow": null,
       "overflow_x": null,
       "overflow_y": null,
       "padding": null,
       "right": null,
       "top": null,
       "visibility": null,
       "width": null
      }
     },
     "4979a20c57d344f294f75e89063572b0": {
      "model_module": "@jupyter-widgets/controls",
      "model_module_version": "1.5.0",
      "model_name": "HTMLModel",
      "state": {
       "_dom_classes": [],
       "_model_module": "@jupyter-widgets/controls",
       "_model_module_version": "1.5.0",
       "_model_name": "HTMLModel",
       "_view_count": null,
       "_view_module": "@jupyter-widgets/controls",
       "_view_module_version": "1.5.0",
       "_view_name": "HTMLView",
       "description": "",
       "description_tooltip": null,
       "layout": "IPY_MODEL_460b7d3334e1486c864c5ad450ed1672",
       "placeholder": "​",
       "style": "IPY_MODEL_ee14e43fa078412a8f5dba0e33da8a30",
       "value": "100%"
      }
     },
     "53af5717e42e43c6bdd270c33123d82c": {
      "model_module": "@jupyter-widgets/controls",
      "model_module_version": "1.5.0",
      "model_name": "HTMLModel",
      "state": {
       "_dom_classes": [],
       "_model_module": "@jupyter-widgets/controls",
       "_model_module_version": "1.5.0",
       "_model_name": "HTMLModel",
       "_view_count": null,
       "_view_module": "@jupyter-widgets/controls",
       "_view_module_version": "1.5.0",
       "_view_name": "HTMLView",
       "description": "",
       "description_tooltip": null,
       "layout": "IPY_MODEL_6f320aa0bf3a49f292a29546f342b590",
       "placeholder": "​",
       "style": "IPY_MODEL_68188d7971d54f7a8648b3e86733b6f9",
       "value": " 15/15 [11:47&lt;00:00, 46.77s/it]"
      }
     },
     "54e1b27b2c6f451ba21f4b035a253ca8": {
      "model_module": "@jupyter-widgets/base",
      "model_module_version": "1.2.0",
      "model_name": "LayoutModel",
      "state": {
       "_model_module": "@jupyter-widgets/base",
       "_model_module_version": "1.2.0",
       "_model_name": "LayoutModel",
       "_view_count": null,
       "_view_module": "@jupyter-widgets/base",
       "_view_module_version": "1.2.0",
       "_view_name": "LayoutView",
       "align_content": null,
       "align_items": null,
       "align_self": null,
       "border": null,
       "bottom": null,
       "display": null,
       "flex": null,
       "flex_flow": null,
       "grid_area": null,
       "grid_auto_columns": null,
       "grid_auto_flow": null,
       "grid_auto_rows": null,
       "grid_column": null,
       "grid_gap": null,
       "grid_row": null,
       "grid_template_areas": null,
       "grid_template_columns": null,
       "grid_template_rows": null,
       "height": null,
       "justify_content": null,
       "justify_items": null,
       "left": null,
       "margin": null,
       "max_height": null,
       "max_width": null,
       "min_height": null,
       "min_width": null,
       "object_fit": null,
       "object_position": null,
       "order": null,
       "overflow": null,
       "overflow_x": null,
       "overflow_y": null,
       "padding": null,
       "right": null,
       "top": null,
       "visibility": null,
       "width": null
      }
     },
     "5cf8924ef092495bab0d40c4b7addcb9": {
      "model_module": "@jupyter-widgets/base",
      "model_module_version": "1.2.0",
      "model_name": "LayoutModel",
      "state": {
       "_model_module": "@jupyter-widgets/base",
       "_model_module_version": "1.2.0",
       "_model_name": "LayoutModel",
       "_view_count": null,
       "_view_module": "@jupyter-widgets/base",
       "_view_module_version": "1.2.0",
       "_view_name": "LayoutView",
       "align_content": null,
       "align_items": null,
       "align_self": null,
       "border": null,
       "bottom": null,
       "display": null,
       "flex": null,
       "flex_flow": null,
       "grid_area": null,
       "grid_auto_columns": null,
       "grid_auto_flow": null,
       "grid_auto_rows": null,
       "grid_column": null,
       "grid_gap": null,
       "grid_row": null,
       "grid_template_areas": null,
       "grid_template_columns": null,
       "grid_template_rows": null,
       "height": null,
       "justify_content": null,
       "justify_items": null,
       "left": null,
       "margin": null,
       "max_height": null,
       "max_width": null,
       "min_height": null,
       "min_width": null,
       "object_fit": null,
       "object_position": null,
       "order": null,
       "overflow": null,
       "overflow_x": null,
       "overflow_y": null,
       "padding": null,
       "right": null,
       "top": null,
       "visibility": null,
       "width": null
      }
     },
     "68188d7971d54f7a8648b3e86733b6f9": {
      "model_module": "@jupyter-widgets/controls",
      "model_module_version": "1.5.0",
      "model_name": "DescriptionStyleModel",
      "state": {
       "_model_module": "@jupyter-widgets/controls",
       "_model_module_version": "1.5.0",
       "_model_name": "DescriptionStyleModel",
       "_view_count": null,
       "_view_module": "@jupyter-widgets/base",
       "_view_module_version": "1.2.0",
       "_view_name": "StyleView",
       "description_width": ""
      }
     },
     "6f320aa0bf3a49f292a29546f342b590": {
      "model_module": "@jupyter-widgets/base",
      "model_module_version": "1.2.0",
      "model_name": "LayoutModel",
      "state": {
       "_model_module": "@jupyter-widgets/base",
       "_model_module_version": "1.2.0",
       "_model_name": "LayoutModel",
       "_view_count": null,
       "_view_module": "@jupyter-widgets/base",
       "_view_module_version": "1.2.0",
       "_view_name": "LayoutView",
       "align_content": null,
       "align_items": null,
       "align_self": null,
       "border": null,
       "bottom": null,
       "display": null,
       "flex": null,
       "flex_flow": null,
       "grid_area": null,
       "grid_auto_columns": null,
       "grid_auto_flow": null,
       "grid_auto_rows": null,
       "grid_column": null,
       "grid_gap": null,
       "grid_row": null,
       "grid_template_areas": null,
       "grid_template_columns": null,
       "grid_template_rows": null,
       "height": null,
       "justify_content": null,
       "justify_items": null,
       "left": null,
       "margin": null,
       "max_height": null,
       "max_width": null,
       "min_height": null,
       "min_width": null,
       "object_fit": null,
       "object_position": null,
       "order": null,
       "overflow": null,
       "overflow_x": null,
       "overflow_y": null,
       "padding": null,
       "right": null,
       "top": null,
       "visibility": null,
       "width": null
      }
     },
     "7f29c559abf2461592a0f41bf21f2445": {
      "model_module": "@jupyter-widgets/base",
      "model_module_version": "1.2.0",
      "model_name": "LayoutModel",
      "state": {
       "_model_module": "@jupyter-widgets/base",
       "_model_module_version": "1.2.0",
       "_model_name": "LayoutModel",
       "_view_count": null,
       "_view_module": "@jupyter-widgets/base",
       "_view_module_version": "1.2.0",
       "_view_name": "LayoutView",
       "align_content": null,
       "align_items": null,
       "align_self": null,
       "border": null,
       "bottom": null,
       "display": null,
       "flex": null,
       "flex_flow": null,
       "grid_area": null,
       "grid_auto_columns": null,
       "grid_auto_flow": null,
       "grid_auto_rows": null,
       "grid_column": null,
       "grid_gap": null,
       "grid_row": null,
       "grid_template_areas": null,
       "grid_template_columns": null,
       "grid_template_rows": null,
       "height": null,
       "justify_content": null,
       "justify_items": null,
       "left": null,
       "margin": null,
       "max_height": null,
       "max_width": null,
       "min_height": null,
       "min_width": null,
       "object_fit": null,
       "object_position": null,
       "order": null,
       "overflow": null,
       "overflow_x": null,
       "overflow_y": null,
       "padding": null,
       "right": null,
       "top": null,
       "visibility": null,
       "width": null
      }
     },
     "8d06534ceb774662afd5e8d2e8cbbbfb": {
      "model_module": "@jupyter-widgets/controls",
      "model_module_version": "1.5.0",
      "model_name": "HBoxModel",
      "state": {
       "_dom_classes": [],
       "_model_module": "@jupyter-widgets/controls",
       "_model_module_version": "1.5.0",
       "_model_name": "HBoxModel",
       "_view_count": null,
       "_view_module": "@jupyter-widgets/controls",
       "_view_module_version": "1.5.0",
       "_view_name": "HBoxView",
       "box_style": "",
       "children": [
        "IPY_MODEL_4979a20c57d344f294f75e89063572b0",
        "IPY_MODEL_06c2cfcf397147a3b951e5206b141329",
        "IPY_MODEL_53af5717e42e43c6bdd270c33123d82c"
       ],
       "layout": "IPY_MODEL_19ac1b7ab53a483f8da7034fbcc22893"
      }
     },
     "8f9f6e5897cb4ffdb2636bd525c6c71f": {
      "model_module": "@jupyter-widgets/base",
      "model_module_version": "1.2.0",
      "model_name": "LayoutModel",
      "state": {
       "_model_module": "@jupyter-widgets/base",
       "_model_module_version": "1.2.0",
       "_model_name": "LayoutModel",
       "_view_count": null,
       "_view_module": "@jupyter-widgets/base",
       "_view_module_version": "1.2.0",
       "_view_name": "LayoutView",
       "align_content": null,
       "align_items": null,
       "align_self": null,
       "border": null,
       "bottom": null,
       "display": null,
       "flex": null,
       "flex_flow": null,
       "grid_area": null,
       "grid_auto_columns": null,
       "grid_auto_flow": null,
       "grid_auto_rows": null,
       "grid_column": null,
       "grid_gap": null,
       "grid_row": null,
       "grid_template_areas": null,
       "grid_template_columns": null,
       "grid_template_rows": null,
       "height": null,
       "justify_content": null,
       "justify_items": null,
       "left": null,
       "margin": null,
       "max_height": null,
       "max_width": null,
       "min_height": null,
       "min_width": null,
       "object_fit": null,
       "object_position": null,
       "order": null,
       "overflow": null,
       "overflow_x": null,
       "overflow_y": null,
       "padding": null,
       "right": null,
       "top": null,
       "visibility": null,
       "width": null
      }
     },
     "a38487aea3674cdaa7a1e9da9169a1f5": {
      "model_module": "@jupyter-widgets/controls",
      "model_module_version": "1.5.0",
      "model_name": "HTMLModel",
      "state": {
       "_dom_classes": [],
       "_model_module": "@jupyter-widgets/controls",
       "_model_module_version": "1.5.0",
       "_model_name": "HTMLModel",
       "_view_count": null,
       "_view_module": "@jupyter-widgets/controls",
       "_view_module_version": "1.5.0",
       "_view_name": "HTMLView",
       "description": "",
       "description_tooltip": null,
       "layout": "IPY_MODEL_8f9f6e5897cb4ffdb2636bd525c6c71f",
       "placeholder": "​",
       "style": "IPY_MODEL_d14e2b06ec66493db323ed7b87cda095",
       "value": "100%"
      }
     },
     "d14e2b06ec66493db323ed7b87cda095": {
      "model_module": "@jupyter-widgets/controls",
      "model_module_version": "1.5.0",
      "model_name": "DescriptionStyleModel",
      "state": {
       "_model_module": "@jupyter-widgets/controls",
       "_model_module_version": "1.5.0",
       "_model_name": "DescriptionStyleModel",
       "_view_count": null,
       "_view_module": "@jupyter-widgets/base",
       "_view_module_version": "1.2.0",
       "_view_name": "StyleView",
       "description_width": ""
      }
     },
     "d38c5986b300463eabcc22a0bb6f3cef": {
      "model_module": "@jupyter-widgets/controls",
      "model_module_version": "1.5.0",
      "model_name": "ProgressStyleModel",
      "state": {
       "_model_module": "@jupyter-widgets/controls",
       "_model_module_version": "1.5.0",
       "_model_name": "ProgressStyleModel",
       "_view_count": null,
       "_view_module": "@jupyter-widgets/base",
       "_view_module_version": "1.2.0",
       "_view_name": "StyleView",
       "bar_color": null,
       "description_width": ""
      }
     },
     "ee14e43fa078412a8f5dba0e33da8a30": {
      "model_module": "@jupyter-widgets/controls",
      "model_module_version": "1.5.0",
      "model_name": "DescriptionStyleModel",
      "state": {
       "_model_module": "@jupyter-widgets/controls",
       "_model_module_version": "1.5.0",
       "_model_name": "DescriptionStyleModel",
       "_view_count": null,
       "_view_module": "@jupyter-widgets/base",
       "_view_module_version": "1.2.0",
       "_view_name": "StyleView",
       "description_width": ""
      }
     }
    },
    "version_major": 2,
    "version_minor": 0
   }
  }
 },
 "nbformat": 4,
 "nbformat_minor": 5
}
