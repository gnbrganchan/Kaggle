{
 "cells": [
  {
   "cell_type": "code",
   "execution_count": 1,
   "id": "26605f35",
   "metadata": {
    "_cell_guid": "b1076dfc-b9ad-4769-8c92-a6c4dae69d19",
    "_uuid": "8f2839f25d086af736a60e9eeb907d3b93b6e0e5",
    "execution": {
     "iopub.execute_input": "2023-01-11T00:45:53.235899Z",
     "iopub.status.busy": "2023-01-11T00:45:53.235263Z",
     "iopub.status.idle": "2023-01-11T00:45:57.062283Z",
     "shell.execute_reply": "2023-01-11T00:45:57.061287Z"
    },
    "papermill": {
     "duration": 3.83536,
     "end_time": "2023-01-11T00:45:57.064967",
     "exception": false,
     "start_time": "2023-01-11T00:45:53.229607",
     "status": "completed"
    },
    "tags": []
   },
   "outputs": [],
   "source": [
    "import cudf\n",
    "import numpy as np\n",
    "import pandas as pd\n",
    "from matplotlib import pyplot as plt\n",
    "import seaborn as sns\n",
    "from sklearn.model_selection import GroupKFold\n",
    "import xgboost as xgb\n",
    "import glob\n",
    "\n",
    "import gc"
   ]
  },
  {
   "cell_type": "code",
   "execution_count": 2,
   "id": "52b0f277",
   "metadata": {
    "execution": {
     "iopub.execute_input": "2023-01-11T00:45:57.072338Z",
     "iopub.status.busy": "2023-01-11T00:45:57.072006Z",
     "iopub.status.idle": "2023-01-11T00:45:57.078699Z",
     "shell.execute_reply": "2023-01-11T00:45:57.077849Z"
    },
    "papermill": {
     "duration": 0.012839,
     "end_time": "2023-01-11T00:45:57.080990",
     "exception": false,
     "start_time": "2023-01-11T00:45:57.068151",
     "status": "completed"
    },
    "tags": []
   },
   "outputs": [],
   "source": [
    "n_pred = 20 # sessionごとに予測するaidの数（固定）\n",
    "weight = {\"clicks\": 0.1, \"carts\": 0.3, \"orders\": 0.6}\n",
    "\n",
    "event_type = \"orders\"\n",
    "\n",
    "path_input_feat = {}\n",
    "path_input_label = {}\n",
    "for i in [\"train1\"]:\n",
    "    path_input_feat[i] = f\"/kaggle/input/otto-make-data-feature/feature_label_{i}_{{}}_{{}}.pickle\"\n",
    "    path_input_label[i] = f\"/kaggle/input/otto-make-data-feature/n_ground_truth_{i}_{event_type}.csv\""
   ]
  },
  {
   "cell_type": "code",
   "execution_count": 3,
   "id": "fb866a97",
   "metadata": {
    "execution": {
     "iopub.execute_input": "2023-01-11T00:45:57.087308Z",
     "iopub.status.busy": "2023-01-11T00:45:57.087008Z",
     "iopub.status.idle": "2023-01-11T00:45:57.105160Z",
     "shell.execute_reply": "2023-01-11T00:45:57.104173Z"
    },
    "papermill": {
     "duration": 0.024065,
     "end_time": "2023-01-11T00:45:57.107489",
     "exception": false,
     "start_time": "2023-01-11T00:45:57.083424",
     "status": "completed"
    },
    "tags": []
   },
   "outputs": [
    {
     "data": {
      "text/plain": [
       "15"
      ]
     },
     "execution_count": 3,
     "metadata": {},
     "output_type": "execute_result"
    }
   ],
   "source": [
    "list_files = glob.glob(path_input_feat[\"train1\"].format('feat','*'))\n",
    "len(list_files)"
   ]
  },
  {
   "cell_type": "code",
   "execution_count": 4,
   "id": "4db636e7",
   "metadata": {
    "execution": {
     "iopub.execute_input": "2023-01-11T00:45:57.114419Z",
     "iopub.status.busy": "2023-01-11T00:45:57.113712Z",
     "iopub.status.idle": "2023-01-11T00:45:57.126451Z",
     "shell.execute_reply": "2023-01-11T00:45:57.125505Z"
    },
    "papermill": {
     "duration": 0.018317,
     "end_time": "2023-01-11T00:45:57.128471",
     "exception": false,
     "start_time": "2023-01-11T00:45:57.110154",
     "status": "completed"
    },
    "tags": []
   },
   "outputs": [],
   "source": [
    "def reduce_mem_usage(df, verbose=True):\n",
    "    numerics = ['int16', 'int32', 'int64', 'float16', 'float32', 'float64']\n",
    "    start_mem = df.memory_usage().sum() / 1024**2\n",
    "    for col in df.columns:\n",
    "        col_type = df[col].dtypes\n",
    "        if col_type in numerics:\n",
    "            c_min = df[col].min()\n",
    "            c_max = df[col].max()\n",
    "            if str(col_type)[:3] == 'int':\n",
    "                if c_min > np.iinfo(np.int8).min and c_max < np.iinfo(np.int8).max:\n",
    "                    df[col] = df[col].astype(np.int8)\n",
    "                elif c_min > np.iinfo(np.int16).min and c_max < np.iinfo(np.int16).max:\n",
    "                    df[col] = df[col].astype(np.int16)\n",
    "                elif c_min > np.iinfo(np.int32).min and c_max < np.iinfo(np.int32).max:\n",
    "                    df[col] = df[col].astype(np.int32)\n",
    "                elif c_min > np.iinfo(np.int64).min and c_max < np.iinfo(np.int64).max:\n",
    "                    df[col] = df[col].astype(np.int64)\n",
    "            else:\n",
    "                if c_min > np.finfo(np.float16).min and c_max < np.finfo(np.float16).max:\n",
    "                    df[col] = df[col].astype(np.float16)\n",
    "                elif c_min > np.finfo(np.float32).min and c_max < np.finfo(np.float32).max:\n",
    "                    df[col] = df[col].astype(np.float32)\n",
    "                else:\n",
    "                    df[col] = df[col].astype(np.float64)\n",
    "    end_mem = df.memory_usage().sum() / 1024**2\n",
    "    if verbose: print('Mem. usage decreased to {:5.2f} Mb ({:.1f}% reduction)'.format(end_mem, 100 * (start_mem - end_mem) / start_mem))\n",
    "    return df"
   ]
  },
  {
   "cell_type": "code",
   "execution_count": 5,
   "id": "a1af3ec9",
   "metadata": {
    "execution": {
     "iopub.execute_input": "2023-01-11T00:45:57.134911Z",
     "iopub.status.busy": "2023-01-11T00:45:57.134624Z",
     "iopub.status.idle": "2023-01-11T00:45:57.139808Z",
     "shell.execute_reply": "2023-01-11T00:45:57.138948Z"
    },
    "papermill": {
     "duration": 0.010632,
     "end_time": "2023-01-11T00:45:57.141872",
     "exception": false,
     "start_time": "2023-01-11T00:45:57.131240",
     "status": "completed"
    },
    "tags": []
   },
   "outputs": [],
   "source": [
    "rand = 64\n",
    "\n",
    "n_splits = 5\n",
    "n_round = 1000\n",
    "\n",
    "lgb_params = {\n",
    "    \"objective\": \"binary:logistic\",\n",
    "    \"max_depth\": 30,\n",
    "    \"max_leaves\": 200,\n",
    "    \"subsample\": 0.8,\n",
    "    \"learning_rate\": 0.05,\n",
    "    \"colsample_bytree\": 0.6,\n",
    "    \"alpha\": 0,\n",
    "    \"lambda\": 50,\n",
    "    \"random_state\": rand,\n",
    "    \"eval_metric\": \"logloss\",\n",
    "    \"tree_method\":\"gpu_hist\",\n",
    "}"
   ]
  },
  {
   "cell_type": "markdown",
   "id": "35b63f3b",
   "metadata": {
    "papermill": {
     "duration": 0.002658,
     "end_time": "2023-01-11T00:45:57.147002",
     "exception": false,
     "start_time": "2023-01-11T00:45:57.144344",
     "status": "completed"
    },
    "tags": []
   },
   "source": [
    "# train"
   ]
  },
  {
   "cell_type": "code",
   "execution_count": 6,
   "id": "d4fc8136",
   "metadata": {
    "execution": {
     "iopub.execute_input": "2023-01-11T00:45:57.153761Z",
     "iopub.status.busy": "2023-01-11T00:45:57.152968Z",
     "iopub.status.idle": "2023-01-11T00:46:28.782230Z",
     "shell.execute_reply": "2023-01-11T00:46:28.781159Z"
    },
    "papermill": {
     "duration": 31.638732,
     "end_time": "2023-01-11T00:46:28.788340",
     "exception": false,
     "start_time": "2023-01-11T00:45:57.149608",
     "status": "completed"
    },
    "tags": []
   },
   "outputs": [
    {
     "name": "stdout",
     "output_type": "stream",
     "text": [
      "Mem. usage decreased to 2221.09 Mb (0.0% reduction)\n"
     ]
    },
    {
     "data": {
      "text/plain": [
       "0"
      ]
     },
     "execution_count": 6,
     "metadata": {},
     "output_type": "execute_result"
    }
   ],
   "source": [
    "# データ読み込み\n",
    "df_Xy = []\n",
    "for n_chunk in range(len(list_files)):\n",
    "    feat = pd.read_pickle(path_input_feat[\"train1\"].format(\"feat\", n_chunk))\n",
    "    label = pd.read_pickle(path_input_feat[\"train1\"].format(event_type, n_chunk))\n",
    "    df_Xy.append(pd.concat([feat,label], axis = 1))\n",
    "df_Xy = pd.concat(df_Xy)\n",
    "df_Xy = reduce_mem_usage(df_Xy)\n",
    "\n",
    "\n",
    "gc.collect()"
   ]
  },
  {
   "cell_type": "code",
   "execution_count": 7,
   "id": "234ed796",
   "metadata": {
    "execution": {
     "iopub.execute_input": "2023-01-11T00:46:28.796643Z",
     "iopub.status.busy": "2023-01-11T00:46:28.795805Z",
     "iopub.status.idle": "2023-01-11T01:04:11.961821Z",
     "shell.execute_reply": "2023-01-11T01:04:11.960725Z"
    },
    "papermill": {
     "duration": 1063.172948,
     "end_time": "2023-01-11T01:04:11.964693",
     "exception": false,
     "start_time": "2023-01-11T00:46:28.791745",
     "status": "completed"
    },
    "tags": []
   },
   "outputs": [
    {
     "data": {
      "text/plain": [
       "0    5698420\n",
       "1     260742\n",
       "Name: label_orders, dtype: int64"
      ]
     },
     "metadata": {},
     "output_type": "display_data"
    },
    {
     "name": "stdout",
     "output_type": "stream",
     "text": [
      "[0]\ttrain-logloss:0.64880\tvalid-logloss:0.64880\n",
      "[50]\ttrain-logloss:0.09136\tvalid-logloss:0.09176\n",
      "[100]\ttrain-logloss:0.06308\tvalid-logloss:0.06376\n",
      "[150]\ttrain-logloss:0.06068\tvalid-logloss:0.06164\n",
      "[200]\ttrain-logloss:0.06010\tvalid-logloss:0.06133\n",
      "[250]\ttrain-logloss:0.05977\tvalid-logloss:0.06121\n",
      "[300]\ttrain-logloss:0.05950\tvalid-logloss:0.06114\n",
      "[350]\ttrain-logloss:0.05926\tvalid-logloss:0.06110\n",
      "[400]\ttrain-logloss:0.05903\tvalid-logloss:0.06108\n",
      "[450]\ttrain-logloss:0.05883\tvalid-logloss:0.06106\n",
      "[500]\ttrain-logloss:0.05862\tvalid-logloss:0.06104\n",
      "[550]\ttrain-logloss:0.05841\tvalid-logloss:0.06104\n",
      "[591]\ttrain-logloss:0.05826\tvalid-logloss:0.06103\n",
      "[0]\ttrain-logloss:0.64876\tvalid-logloss:0.64875\n",
      "[50]\ttrain-logloss:0.09151\tvalid-logloss:0.09131\n",
      "[100]\ttrain-logloss:0.06326\tvalid-logloss:0.06312\n",
      "[150]\ttrain-logloss:0.06087\tvalid-logloss:0.06095\n",
      "[200]\ttrain-logloss:0.06030\tvalid-logloss:0.06060\n",
      "[250]\ttrain-logloss:0.05996\tvalid-logloss:0.06047\n",
      "[300]\ttrain-logloss:0.05970\tvalid-logloss:0.06041\n",
      "[350]\ttrain-logloss:0.05946\tvalid-logloss:0.06037\n",
      "[400]\ttrain-logloss:0.05925\tvalid-logloss:0.06034\n",
      "[450]\ttrain-logloss:0.05902\tvalid-logloss:0.06032\n",
      "[500]\ttrain-logloss:0.05882\tvalid-logloss:0.06030\n",
      "[550]\ttrain-logloss:0.05863\tvalid-logloss:0.06029\n",
      "[600]\ttrain-logloss:0.05844\tvalid-logloss:0.06029\n",
      "[650]\ttrain-logloss:0.05825\tvalid-logloss:0.06028\n",
      "[0]\ttrain-logloss:0.64878\tvalid-logloss:0.64881\n",
      "[50]\ttrain-logloss:0.09133\tvalid-logloss:0.09181\n",
      "[100]\ttrain-logloss:0.06298\tvalid-logloss:0.06402\n",
      "[150]\ttrain-logloss:0.06061\tvalid-logloss:0.06200\n",
      "[200]\ttrain-logloss:0.06003\tvalid-logloss:0.06169\n",
      "[250]\ttrain-logloss:0.05970\tvalid-logloss:0.06156\n",
      "[300]\ttrain-logloss:0.05943\tvalid-logloss:0.06150\n",
      "[350]\ttrain-logloss:0.05919\tvalid-logloss:0.06146\n",
      "[400]\ttrain-logloss:0.05897\tvalid-logloss:0.06144\n",
      "[450]\ttrain-logloss:0.05875\tvalid-logloss:0.06142\n",
      "[500]\ttrain-logloss:0.05855\tvalid-logloss:0.06142\n",
      "[550]\ttrain-logloss:0.05835\tvalid-logloss:0.06140\n",
      "[600]\ttrain-logloss:0.05816\tvalid-logloss:0.06140\n",
      "[622]\ttrain-logloss:0.05807\tvalid-logloss:0.06140\n",
      "[0]\ttrain-logloss:0.64878\tvalid-logloss:0.64879\n",
      "[50]\ttrain-logloss:0.09129\tvalid-logloss:0.09199\n",
      "[100]\ttrain-logloss:0.06298\tvalid-logloss:0.06413\n",
      "[150]\ttrain-logloss:0.06058\tvalid-logloss:0.06205\n",
      "[200]\ttrain-logloss:0.05998\tvalid-logloss:0.06171\n",
      "[250]\ttrain-logloss:0.05966\tvalid-logloss:0.06159\n",
      "[300]\ttrain-logloss:0.05941\tvalid-logloss:0.06153\n",
      "[350]\ttrain-logloss:0.05918\tvalid-logloss:0.06149\n",
      "[400]\ttrain-logloss:0.05897\tvalid-logloss:0.06146\n",
      "[450]\ttrain-logloss:0.05874\tvalid-logloss:0.06144\n",
      "[500]\ttrain-logloss:0.05853\tvalid-logloss:0.06143\n",
      "[550]\ttrain-logloss:0.05832\tvalid-logloss:0.06142\n",
      "[600]\ttrain-logloss:0.05813\tvalid-logloss:0.06142\n",
      "[623]\ttrain-logloss:0.05805\tvalid-logloss:0.06142\n",
      "[0]\ttrain-logloss:0.64874\tvalid-logloss:0.64877\n",
      "[50]\ttrain-logloss:0.09140\tvalid-logloss:0.09168\n",
      "[100]\ttrain-logloss:0.06312\tvalid-logloss:0.06371\n",
      "[150]\ttrain-logloss:0.06073\tvalid-logloss:0.06159\n",
      "[200]\ttrain-logloss:0.06013\tvalid-logloss:0.06122\n",
      "[250]\ttrain-logloss:0.05979\tvalid-logloss:0.06108\n",
      "[300]\ttrain-logloss:0.05955\tvalid-logloss:0.06103\n",
      "[350]\ttrain-logloss:0.05931\tvalid-logloss:0.06099\n",
      "[400]\ttrain-logloss:0.05910\tvalid-logloss:0.06096\n",
      "[450]\ttrain-logloss:0.05889\tvalid-logloss:0.06095\n",
      "[500]\ttrain-logloss:0.05867\tvalid-logloss:0.06093\n",
      "[550]\ttrain-logloss:0.05848\tvalid-logloss:0.06092\n",
      "[600]\ttrain-logloss:0.05829\tvalid-logloss:0.06092\n",
      "[606]\ttrain-logloss:0.05827\tvalid-logloss:0.06091\n"
     ]
    },
    {
     "data": {
      "text/plain": [
       "0    5698420\n",
       "1     260742\n",
       "Name: label_orders, dtype: int64"
      ]
     },
     "metadata": {},
     "output_type": "display_data"
    },
    {
     "name": "stdout",
     "output_type": "stream",
     "text": [
      "[0]\ttrain-logloss:0.64879\tvalid-logloss:0.64879\n",
      "[50]\ttrain-logloss:0.09136\tvalid-logloss:0.09181\n",
      "[100]\ttrain-logloss:0.06307\tvalid-logloss:0.06382\n",
      "[150]\ttrain-logloss:0.06069\tvalid-logloss:0.06171\n",
      "[200]\ttrain-logloss:0.06010\tvalid-logloss:0.06136\n",
      "[250]\ttrain-logloss:0.05978\tvalid-logloss:0.06125\n",
      "[300]\ttrain-logloss:0.05953\tvalid-logloss:0.06120\n",
      "[350]\ttrain-logloss:0.05928\tvalid-logloss:0.06116\n",
      "[400]\ttrain-logloss:0.05906\tvalid-logloss:0.06112\n",
      "[450]\ttrain-logloss:0.05884\tvalid-logloss:0.06110\n",
      "[500]\ttrain-logloss:0.05863\tvalid-logloss:0.06109\n",
      "[550]\ttrain-logloss:0.05842\tvalid-logloss:0.06108\n",
      "[581]\ttrain-logloss:0.05830\tvalid-logloss:0.06108\n",
      "[0]\ttrain-logloss:0.64888\tvalid-logloss:0.64888\n",
      "[50]\ttrain-logloss:0.09140\tvalid-logloss:0.09170\n",
      "[100]\ttrain-logloss:0.06311\tvalid-logloss:0.06371\n",
      "[150]\ttrain-logloss:0.06072\tvalid-logloss:0.06163\n",
      "[200]\ttrain-logloss:0.06014\tvalid-logloss:0.06130\n",
      "[250]\ttrain-logloss:0.05979\tvalid-logloss:0.06117\n",
      "[300]\ttrain-logloss:0.05952\tvalid-logloss:0.06109\n",
      "[350]\ttrain-logloss:0.05929\tvalid-logloss:0.06105\n",
      "[400]\ttrain-logloss:0.05906\tvalid-logloss:0.06102\n",
      "[450]\ttrain-logloss:0.05885\tvalid-logloss:0.06101\n",
      "[500]\ttrain-logloss:0.05864\tvalid-logloss:0.06099\n",
      "[550]\ttrain-logloss:0.05844\tvalid-logloss:0.06099\n",
      "[565]\ttrain-logloss:0.05838\tvalid-logloss:0.06099\n",
      "[0]\ttrain-logloss:0.64879\tvalid-logloss:0.64881\n",
      "[50]\ttrain-logloss:0.09137\tvalid-logloss:0.09186\n",
      "[100]\ttrain-logloss:0.06307\tvalid-logloss:0.06384\n",
      "[150]\ttrain-logloss:0.06071\tvalid-logloss:0.06172\n",
      "[200]\ttrain-logloss:0.06011\tvalid-logloss:0.06137\n",
      "[250]\ttrain-logloss:0.05979\tvalid-logloss:0.06124\n",
      "[300]\ttrain-logloss:0.05953\tvalid-logloss:0.06118\n",
      "[350]\ttrain-logloss:0.05930\tvalid-logloss:0.06114\n",
      "[400]\ttrain-logloss:0.05906\tvalid-logloss:0.06110\n",
      "[450]\ttrain-logloss:0.05885\tvalid-logloss:0.06108\n",
      "[500]\ttrain-logloss:0.05864\tvalid-logloss:0.06107\n",
      "[550]\ttrain-logloss:0.05844\tvalid-logloss:0.06106\n",
      "[591]\ttrain-logloss:0.05828\tvalid-logloss:0.06105\n",
      "[0]\ttrain-logloss:0.64881\tvalid-logloss:0.64879\n",
      "[50]\ttrain-logloss:0.09148\tvalid-logloss:0.09139\n",
      "[100]\ttrain-logloss:0.06318\tvalid-logloss:0.06335\n",
      "[150]\ttrain-logloss:0.06078\tvalid-logloss:0.06127\n",
      "[200]\ttrain-logloss:0.06019\tvalid-logloss:0.06094\n",
      "[250]\ttrain-logloss:0.05984\tvalid-logloss:0.06082\n",
      "[300]\ttrain-logloss:0.05961\tvalid-logloss:0.06076\n",
      "[350]\ttrain-logloss:0.05939\tvalid-logloss:0.06073\n",
      "[400]\ttrain-logloss:0.05917\tvalid-logloss:0.06070\n",
      "[450]\ttrain-logloss:0.05893\tvalid-logloss:0.06068\n",
      "[500]\ttrain-logloss:0.05872\tvalid-logloss:0.06068\n",
      "[508]\ttrain-logloss:0.05869\tvalid-logloss:0.06068\n",
      "[0]\ttrain-logloss:0.64874\tvalid-logloss:0.64876\n",
      "[50]\ttrain-logloss:0.09132\tvalid-logloss:0.09180\n",
      "[100]\ttrain-logloss:0.06301\tvalid-logloss:0.06398\n",
      "[150]\ttrain-logloss:0.06062\tvalid-logloss:0.06194\n",
      "[200]\ttrain-logloss:0.06003\tvalid-logloss:0.06160\n",
      "[250]\ttrain-logloss:0.05969\tvalid-logloss:0.06147\n",
      "[300]\ttrain-logloss:0.05944\tvalid-logloss:0.06141\n",
      "[350]\ttrain-logloss:0.05921\tvalid-logloss:0.06138\n",
      "[400]\ttrain-logloss:0.05898\tvalid-logloss:0.06135\n",
      "[450]\ttrain-logloss:0.05877\tvalid-logloss:0.06133\n",
      "[500]\ttrain-logloss:0.05856\tvalid-logloss:0.06132\n",
      "[550]\ttrain-logloss:0.05837\tvalid-logloss:0.06131\n",
      "[600]\ttrain-logloss:0.05818\tvalid-logloss:0.06130\n",
      "[650]\ttrain-logloss:0.05798\tvalid-logloss:0.06130\n",
      "[661]\ttrain-logloss:0.05794\tvalid-logloss:0.06130\n"
     ]
    },
    {
     "data": {
      "text/plain": [
       "0    5698420\n",
       "1     260742\n",
       "Name: label_orders, dtype: int64"
      ]
     },
     "metadata": {},
     "output_type": "display_data"
    },
    {
     "name": "stdout",
     "output_type": "stream",
     "text": [
      "[0]\ttrain-logloss:0.64884\tvalid-logloss:0.64884\n",
      "[50]\ttrain-logloss:0.09143\tvalid-logloss:0.09139\n",
      "[100]\ttrain-logloss:0.06314\tvalid-logloss:0.06328\n",
      "[150]\ttrain-logloss:0.06075\tvalid-logloss:0.06119\n",
      "[200]\ttrain-logloss:0.06015\tvalid-logloss:0.06084\n",
      "[250]\ttrain-logloss:0.05981\tvalid-logloss:0.06072\n",
      "[300]\ttrain-logloss:0.05955\tvalid-logloss:0.06066\n",
      "[350]\ttrain-logloss:0.05931\tvalid-logloss:0.06061\n",
      "[400]\ttrain-logloss:0.05910\tvalid-logloss:0.06060\n",
      "[450]\ttrain-logloss:0.05888\tvalid-logloss:0.06059\n",
      "[490]\ttrain-logloss:0.05872\tvalid-logloss:0.06059\n",
      "[0]\ttrain-logloss:0.64884\tvalid-logloss:0.64884\n",
      "[50]\ttrain-logloss:0.09134\tvalid-logloss:0.09161\n",
      "[100]\ttrain-logloss:0.06304\tvalid-logloss:0.06361\n",
      "[150]\ttrain-logloss:0.06067\tvalid-logloss:0.06152\n",
      "[200]\ttrain-logloss:0.06007\tvalid-logloss:0.06116\n",
      "[250]\ttrain-logloss:0.05975\tvalid-logloss:0.06104\n",
      "[300]\ttrain-logloss:0.05950\tvalid-logloss:0.06098\n",
      "[350]\ttrain-logloss:0.05927\tvalid-logloss:0.06095\n",
      "[400]\ttrain-logloss:0.05905\tvalid-logloss:0.06092\n",
      "[450]\ttrain-logloss:0.05883\tvalid-logloss:0.06090\n",
      "[500]\ttrain-logloss:0.05862\tvalid-logloss:0.06089\n",
      "[550]\ttrain-logloss:0.05842\tvalid-logloss:0.06088\n",
      "[600]\ttrain-logloss:0.05824\tvalid-logloss:0.06088\n",
      "[620]\ttrain-logloss:0.05816\tvalid-logloss:0.06088\n",
      "[0]\ttrain-logloss:0.64879\tvalid-logloss:0.64880\n",
      "[50]\ttrain-logloss:0.09129\tvalid-logloss:0.09180\n",
      "[100]\ttrain-logloss:0.06297\tvalid-logloss:0.06391\n",
      "[150]\ttrain-logloss:0.06059\tvalid-logloss:0.06186\n",
      "[200]\ttrain-logloss:0.06001\tvalid-logloss:0.06154\n",
      "[250]\ttrain-logloss:0.05968\tvalid-logloss:0.06143\n",
      "[300]\ttrain-logloss:0.05942\tvalid-logloss:0.06138\n",
      "[350]\ttrain-logloss:0.05919\tvalid-logloss:0.06135\n",
      "[400]\ttrain-logloss:0.05898\tvalid-logloss:0.06132\n",
      "[450]\ttrain-logloss:0.05877\tvalid-logloss:0.06130\n",
      "[475]\ttrain-logloss:0.05867\tvalid-logloss:0.06130\n",
      "[0]\ttrain-logloss:0.64874\tvalid-logloss:0.64874\n",
      "[50]\ttrain-logloss:0.09131\tvalid-logloss:0.09173\n",
      "[100]\ttrain-logloss:0.06304\tvalid-logloss:0.06372\n",
      "[150]\ttrain-logloss:0.06067\tvalid-logloss:0.06158\n",
      "[200]\ttrain-logloss:0.06008\tvalid-logloss:0.06122\n",
      "[250]\ttrain-logloss:0.05974\tvalid-logloss:0.06109\n",
      "[300]\ttrain-logloss:0.05949\tvalid-logloss:0.06102\n",
      "[350]\ttrain-logloss:0.05925\tvalid-logloss:0.06098\n",
      "[400]\ttrain-logloss:0.05902\tvalid-logloss:0.06096\n",
      "[450]\ttrain-logloss:0.05881\tvalid-logloss:0.06094\n",
      "[500]\ttrain-logloss:0.05860\tvalid-logloss:0.06093\n",
      "[550]\ttrain-logloss:0.05839\tvalid-logloss:0.06092\n",
      "[583]\ttrain-logloss:0.05827\tvalid-logloss:0.06092\n",
      "[0]\ttrain-logloss:0.64888\tvalid-logloss:0.64890\n",
      "[50]\ttrain-logloss:0.09130\tvalid-logloss:0.09176\n",
      "[100]\ttrain-logloss:0.06298\tvalid-logloss:0.06388\n",
      "[150]\ttrain-logloss:0.06059\tvalid-logloss:0.06180\n",
      "[200]\ttrain-logloss:0.06000\tvalid-logloss:0.06146\n",
      "[250]\ttrain-logloss:0.05970\tvalid-logloss:0.06135\n",
      "[300]\ttrain-logloss:0.05942\tvalid-logloss:0.06129\n",
      "[350]\ttrain-logloss:0.05921\tvalid-logloss:0.06126\n",
      "[400]\ttrain-logloss:0.05899\tvalid-logloss:0.06123\n",
      "[450]\ttrain-logloss:0.05876\tvalid-logloss:0.06122\n",
      "[500]\ttrain-logloss:0.05854\tvalid-logloss:0.06121\n",
      "[550]\ttrain-logloss:0.05834\tvalid-logloss:0.06120\n",
      "[555]\ttrain-logloss:0.05832\tvalid-logloss:0.06120\n"
     ]
    },
    {
     "data": {
      "text/plain": [
       "0    5698420\n",
       "1     260742\n",
       "Name: label_orders, dtype: int64"
      ]
     },
     "metadata": {},
     "output_type": "display_data"
    },
    {
     "name": "stdout",
     "output_type": "stream",
     "text": [
      "[0]\ttrain-logloss:0.64879\tvalid-logloss:0.64881\n",
      "[50]\ttrain-logloss:0.09143\tvalid-logloss:0.09169\n",
      "[100]\ttrain-logloss:0.06317\tvalid-logloss:0.06359\n",
      "[150]\ttrain-logloss:0.06079\tvalid-logloss:0.06144\n",
      "[200]\ttrain-logloss:0.06020\tvalid-logloss:0.06108\n",
      "[250]\ttrain-logloss:0.05986\tvalid-logloss:0.06095\n",
      "[300]\ttrain-logloss:0.05960\tvalid-logloss:0.06089\n",
      "[350]\ttrain-logloss:0.05937\tvalid-logloss:0.06085\n",
      "[400]\ttrain-logloss:0.05914\tvalid-logloss:0.06082\n",
      "[450]\ttrain-logloss:0.05893\tvalid-logloss:0.06080\n",
      "[500]\ttrain-logloss:0.05874\tvalid-logloss:0.06079\n",
      "[520]\ttrain-logloss:0.05865\tvalid-logloss:0.06079\n",
      "[0]\ttrain-logloss:0.64879\tvalid-logloss:0.64880\n",
      "[50]\ttrain-logloss:0.09139\tvalid-logloss:0.09171\n",
      "[100]\ttrain-logloss:0.06309\tvalid-logloss:0.06379\n",
      "[150]\ttrain-logloss:0.06069\tvalid-logloss:0.06174\n",
      "[200]\ttrain-logloss:0.06009\tvalid-logloss:0.06141\n",
      "[250]\ttrain-logloss:0.05977\tvalid-logloss:0.06130\n",
      "[300]\ttrain-logloss:0.05951\tvalid-logloss:0.06124\n",
      "[350]\ttrain-logloss:0.05928\tvalid-logloss:0.06121\n",
      "[400]\ttrain-logloss:0.05905\tvalid-logloss:0.06119\n",
      "[450]\ttrain-logloss:0.05884\tvalid-logloss:0.06118\n",
      "[500]\ttrain-logloss:0.05863\tvalid-logloss:0.06117\n",
      "[550]\ttrain-logloss:0.05843\tvalid-logloss:0.06116\n",
      "[600]\ttrain-logloss:0.05824\tvalid-logloss:0.06115\n",
      "[650]\ttrain-logloss:0.05805\tvalid-logloss:0.06114\n",
      "[663]\ttrain-logloss:0.05801\tvalid-logloss:0.06114\n",
      "[0]\ttrain-logloss:0.64862\tvalid-logloss:0.64862\n",
      "[50]\ttrain-logloss:0.09133\tvalid-logloss:0.09184\n",
      "[100]\ttrain-logloss:0.06303\tvalid-logloss:0.06397\n",
      "[150]\ttrain-logloss:0.06064\tvalid-logloss:0.06192\n",
      "[200]\ttrain-logloss:0.06004\tvalid-logloss:0.06159\n",
      "[250]\ttrain-logloss:0.05970\tvalid-logloss:0.06148\n",
      "[300]\ttrain-logloss:0.05945\tvalid-logloss:0.06143\n",
      "[350]\ttrain-logloss:0.05921\tvalid-logloss:0.06139\n",
      "[400]\ttrain-logloss:0.05899\tvalid-logloss:0.06137\n",
      "[450]\ttrain-logloss:0.05879\tvalid-logloss:0.06135\n",
      "[491]\ttrain-logloss:0.05862\tvalid-logloss:0.06135\n",
      "[0]\ttrain-logloss:0.64879\tvalid-logloss:0.64880\n",
      "[50]\ttrain-logloss:0.09136\tvalid-logloss:0.09176\n",
      "[100]\ttrain-logloss:0.06306\tvalid-logloss:0.06389\n",
      "[150]\ttrain-logloss:0.06067\tvalid-logloss:0.06183\n",
      "[200]\ttrain-logloss:0.06008\tvalid-logloss:0.06150\n",
      "[250]\ttrain-logloss:0.05973\tvalid-logloss:0.06138\n",
      "[300]\ttrain-logloss:0.05948\tvalid-logloss:0.06132\n",
      "[350]\ttrain-logloss:0.05924\tvalid-logloss:0.06129\n",
      "[400]\ttrain-logloss:0.05902\tvalid-logloss:0.06126\n",
      "[450]\ttrain-logloss:0.05881\tvalid-logloss:0.06124\n",
      "[500]\ttrain-logloss:0.05860\tvalid-logloss:0.06123\n",
      "[550]\ttrain-logloss:0.05840\tvalid-logloss:0.06122\n",
      "[600]\ttrain-logloss:0.05821\tvalid-logloss:0.06121\n",
      "[646]\ttrain-logloss:0.05802\tvalid-logloss:0.06121\n",
      "[0]\ttrain-logloss:0.64883\tvalid-logloss:0.64882\n",
      "[50]\ttrain-logloss:0.09145\tvalid-logloss:0.09157\n",
      "[100]\ttrain-logloss:0.06318\tvalid-logloss:0.06353\n",
      "[150]\ttrain-logloss:0.06079\tvalid-logloss:0.06140\n",
      "[200]\ttrain-logloss:0.06020\tvalid-logloss:0.06104\n",
      "[250]\ttrain-logloss:0.05985\tvalid-logloss:0.06090\n",
      "[300]\ttrain-logloss:0.05960\tvalid-logloss:0.06085\n",
      "[350]\ttrain-logloss:0.05936\tvalid-logloss:0.06081\n",
      "[400]\ttrain-logloss:0.05915\tvalid-logloss:0.06078\n",
      "[450]\ttrain-logloss:0.05894\tvalid-logloss:0.06076\n",
      "[500]\ttrain-logloss:0.05873\tvalid-logloss:0.06075\n",
      "[502]\ttrain-logloss:0.05872\tvalid-logloss:0.06075\n"
     ]
    },
    {
     "data": {
      "text/plain": [
       "0    5698420\n",
       "1     260742\n",
       "Name: label_orders, dtype: int64"
      ]
     },
     "metadata": {},
     "output_type": "display_data"
    },
    {
     "name": "stdout",
     "output_type": "stream",
     "text": [
      "[0]\ttrain-logloss:0.64879\tvalid-logloss:0.64880\n",
      "[50]\ttrain-logloss:0.09144\tvalid-logloss:0.09164\n",
      "[100]\ttrain-logloss:0.06316\tvalid-logloss:0.06358\n",
      "[150]\ttrain-logloss:0.06078\tvalid-logloss:0.06147\n",
      "[200]\ttrain-logloss:0.06018\tvalid-logloss:0.06114\n",
      "[250]\ttrain-logloss:0.05984\tvalid-logloss:0.06101\n",
      "[300]\ttrain-logloss:0.05957\tvalid-logloss:0.06096\n",
      "[350]\ttrain-logloss:0.05933\tvalid-logloss:0.06092\n",
      "[400]\ttrain-logloss:0.05910\tvalid-logloss:0.06089\n",
      "[450]\ttrain-logloss:0.05889\tvalid-logloss:0.06087\n",
      "[489]\ttrain-logloss:0.05873\tvalid-logloss:0.06086\n",
      "[0]\ttrain-logloss:0.64880\tvalid-logloss:0.64880\n",
      "[50]\ttrain-logloss:0.09142\tvalid-logloss:0.09168\n",
      "[100]\ttrain-logloss:0.06313\tvalid-logloss:0.06370\n",
      "[150]\ttrain-logloss:0.06074\tvalid-logloss:0.06159\n",
      "[200]\ttrain-logloss:0.06014\tvalid-logloss:0.06124\n",
      "[250]\ttrain-logloss:0.05981\tvalid-logloss:0.06112\n",
      "[300]\ttrain-logloss:0.05955\tvalid-logloss:0.06106\n",
      "[350]\ttrain-logloss:0.05932\tvalid-logloss:0.06102\n",
      "[400]\ttrain-logloss:0.05910\tvalid-logloss:0.06100\n",
      "[450]\ttrain-logloss:0.05889\tvalid-logloss:0.06097\n",
      "[500]\ttrain-logloss:0.05869\tvalid-logloss:0.06096\n",
      "[550]\ttrain-logloss:0.05848\tvalid-logloss:0.06096\n",
      "[561]\ttrain-logloss:0.05844\tvalid-logloss:0.06096\n",
      "[0]\ttrain-logloss:0.64879\tvalid-logloss:0.64881\n",
      "[50]\ttrain-logloss:0.09139\tvalid-logloss:0.09171\n",
      "[100]\ttrain-logloss:0.06309\tvalid-logloss:0.06382\n",
      "[150]\ttrain-logloss:0.06069\tvalid-logloss:0.06178\n",
      "[200]\ttrain-logloss:0.06009\tvalid-logloss:0.06146\n",
      "[250]\ttrain-logloss:0.05978\tvalid-logloss:0.06135\n",
      "[300]\ttrain-logloss:0.05951\tvalid-logloss:0.06129\n",
      "[350]\ttrain-logloss:0.05927\tvalid-logloss:0.06124\n",
      "[400]\ttrain-logloss:0.05905\tvalid-logloss:0.06123\n",
      "[450]\ttrain-logloss:0.05883\tvalid-logloss:0.06121\n",
      "[500]\ttrain-logloss:0.05863\tvalid-logloss:0.06121\n",
      "[550]\ttrain-logloss:0.05842\tvalid-logloss:0.06119\n",
      "[584]\ttrain-logloss:0.05829\tvalid-logloss:0.06119\n",
      "[0]\ttrain-logloss:0.64888\tvalid-logloss:0.64890\n",
      "[50]\ttrain-logloss:0.09140\tvalid-logloss:0.09176\n",
      "[100]\ttrain-logloss:0.06309\tvalid-logloss:0.06381\n",
      "[150]\ttrain-logloss:0.06071\tvalid-logloss:0.06173\n",
      "[200]\ttrain-logloss:0.06014\tvalid-logloss:0.06141\n",
      "[250]\ttrain-logloss:0.05978\tvalid-logloss:0.06126\n",
      "[300]\ttrain-logloss:0.05952\tvalid-logloss:0.06121\n",
      "[350]\ttrain-logloss:0.05929\tvalid-logloss:0.06117\n",
      "[400]\ttrain-logloss:0.05907\tvalid-logloss:0.06116\n",
      "[450]\ttrain-logloss:0.05885\tvalid-logloss:0.06114\n",
      "[500]\ttrain-logloss:0.05864\tvalid-logloss:0.06113\n",
      "[550]\ttrain-logloss:0.05845\tvalid-logloss:0.06112\n",
      "[594]\ttrain-logloss:0.05828\tvalid-logloss:0.06112\n",
      "[0]\ttrain-logloss:0.64879\tvalid-logloss:0.64879\n",
      "[50]\ttrain-logloss:0.09137\tvalid-logloss:0.09184\n",
      "[100]\ttrain-logloss:0.06310\tvalid-logloss:0.06390\n",
      "[150]\ttrain-logloss:0.06072\tvalid-logloss:0.06176\n",
      "[200]\ttrain-logloss:0.06014\tvalid-logloss:0.06140\n",
      "[250]\ttrain-logloss:0.05981\tvalid-logloss:0.06126\n",
      "[300]\ttrain-logloss:0.05954\tvalid-logloss:0.06120\n",
      "[350]\ttrain-logloss:0.05929\tvalid-logloss:0.06115\n",
      "[400]\ttrain-logloss:0.05907\tvalid-logloss:0.06113\n",
      "[450]\ttrain-logloss:0.05886\tvalid-logloss:0.06111\n",
      "[500]\ttrain-logloss:0.05865\tvalid-logloss:0.06110\n",
      "[550]\ttrain-logloss:0.05845\tvalid-logloss:0.06109\n",
      "[600]\ttrain-logloss:0.05826\tvalid-logloss:0.06108\n",
      "[620]\ttrain-logloss:0.05819\tvalid-logloss:0.06108\n"
     ]
    }
   ],
   "source": [
    "list_model = []\n",
    "\n",
    "for i in range(5):\n",
    "    # 負例をサンプリング\n",
    "    df_Xy_sample = pd.concat([\n",
    "        df_Xy[df_Xy[f\"label_{event_type}\"] == 1],\n",
    "        df_Xy[df_Xy[f\"label_{event_type}\"] == 0].sample(frac = 0.2)\n",
    "    ])\n",
    "\n",
    "    df_X = df_Xy_sample.drop([\"session\", f\"label_{event_type}\"], axis = 1)\n",
    "    df_y = df_Xy_sample[f\"label_{event_type}\"]\n",
    "    df_session = df_Xy_sample[\"session\"]\n",
    "\n",
    "    display(df_y.value_counts())\n",
    "\n",
    "    # Group-K-Fold modeling\n",
    "    # shuffleしたほうが良い？\n",
    "    folds = GroupKFold(n_splits = n_splits)\n",
    "    for tr_idx,va_idx in folds.split(df_X,df_y, df_session):\n",
    "        X_tr, X_va, y_tr, y_va = df_X.iloc[tr_idx], df_X.iloc[va_idx], df_y.iloc[tr_idx], df_y.iloc[va_idx]\n",
    "        X_tr, X_va, y_tr, y_va = cudf.from_pandas(X_tr), cudf.from_pandas(X_va), cudf.from_pandas(y_tr), cudf.from_pandas(y_va)\n",
    "        d_tr = xgb.DMatrix(X_tr, y_tr)\n",
    "        d_va = xgb.DMatrix(X_va, y_va)\n",
    "        model = xgb.train(\n",
    "            lgb_params,\n",
    "            d_tr,\n",
    "            num_boost_round = n_round,\n",
    "            evals = [(d_tr, 'train'), (d_va, 'valid')],\n",
    "            early_stopping_rounds = 20,\n",
    "            verbose_eval = 50,\n",
    "        )\n",
    "        list_model.append(model)\n",
    "        del X_tr, X_va, y_tr, y_va, d_tr, d_va, model\n",
    "        gc.collect()\n",
    "\n",
    "# save model\n",
    "pd.to_pickle(list_model,f\"xgb_models_{event_type}.pkl\")"
   ]
  },
  {
   "cell_type": "code",
   "execution_count": 8,
   "id": "1dc5572d",
   "metadata": {
    "execution": {
     "iopub.execute_input": "2023-01-11T01:04:12.010849Z",
     "iopub.status.busy": "2023-01-11T01:04:12.010488Z",
     "iopub.status.idle": "2023-01-11T01:04:12.144056Z",
     "shell.execute_reply": "2023-01-11T01:04:12.142838Z"
    },
    "papermill": {
     "duration": 0.159575,
     "end_time": "2023-01-11T01:04:12.146710",
     "exception": false,
     "start_time": "2023-01-11T01:04:11.987135",
     "status": "completed"
    },
    "tags": []
   },
   "outputs": [
    {
     "data": {
      "text/plain": [
       "237"
      ]
     },
     "execution_count": 8,
     "metadata": {},
     "output_type": "execute_result"
    }
   ],
   "source": [
    "del df_X, df_y\n",
    "gc.collect()"
   ]
  }
 ],
 "metadata": {
  "kernelspec": {
   "display_name": "Python 3",
   "language": "python",
   "name": "python3"
  },
  "language_info": {
   "codemirror_mode": {
    "name": "ipython",
    "version": 3
   },
   "file_extension": ".py",
   "mimetype": "text/x-python",
   "name": "python",
   "nbconvert_exporter": "python",
   "pygments_lexer": "ipython3",
   "version": "3.7.12"
  },
  "papermill": {
   "default_parameters": {},
   "duration": 1109.923328,
   "end_time": "2023-01-11T01:04:14.732405",
   "environment_variables": {},
   "exception": null,
   "input_path": "__notebook__.ipynb",
   "output_path": "__notebook__.ipynb",
   "parameters": {},
   "start_time": "2023-01-11T00:45:44.809077",
   "version": "2.3.4"
  }
 },
 "nbformat": 4,
 "nbformat_minor": 5
}
