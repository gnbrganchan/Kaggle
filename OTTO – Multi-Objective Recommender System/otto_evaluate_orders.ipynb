{
  "cells": [
    {
      "cell_type": "markdown",
      "metadata": {
        "id": "T94HSvy-lj-D"
      },
      "source": [
        "# CUDF"
      ]
    },
    {
      "cell_type": "code",
      "execution_count": null,
      "metadata": {
        "colab": {
          "base_uri": "https://localhost:8080/"
        },
        "id": "iXUFZrzZlcWY",
        "outputId": "46e3db4a-ad56-46b6-d69d-209fb21595e1"
      },
      "outputs": [
        {
          "name": "stdout",
          "output_type": "stream",
          "text": [
            "use CPU\n"
          ]
        }
      ],
      "source": [
        "import torch\n",
        "GPU = torch.cuda.is_available()\n",
        "if GPU:\n",
        "  !nvidia-smi\n",
        "else:\n",
        "  print(\"use CPU\")"
      ]
    },
    {
      "cell_type": "code",
      "execution_count": null,
      "metadata": {
        "id": "U7VqWseZmCzl"
      },
      "outputs": [],
      "source": [
        "if GPU:\n",
        "  # This get the RAPIDS-Colab install files and test check your GPU.  Run this and the next cell only.\n",
        "  # Please read the output of this cell.  If your Colab Instance is not RAPIDS compatible, it will warn you and give you remediation steps.\n",
        "  !git clone https://github.com/rapidsai/rapidsai-csp-utils.git\n",
        "  !python rapidsai-csp-utils/colab/env-check.py\n",
        "  # This will update the Colab environment and restart the kernel.  Don't run the next cell until you see the session crash.\n",
        "  !bash rapidsai-csp-utils/colab/update_gcc.sh\n",
        "  import os\n",
        "  os._exit(00)"
      ]
    },
    {
      "cell_type": "code",
      "execution_count": null,
      "metadata": {
        "id": "VJOu4C-mmdbF"
      },
      "outputs": [],
      "source": [
        "import torch\n",
        "GPU = torch.cuda.is_available()\n",
        "if GPU:\n",
        "  # This will install CondaColab.  This will restart your kernel one last time.  Run this cell by itself and only run the next cell once you see the session crash.\n",
        "  import condacolab\n",
        "  condacolab.install()"
      ]
    },
    {
      "cell_type": "markdown",
      "metadata": {
        "id": "08kaJ711oW1r"
      },
      "source": [
        "# drive & kaggle"
      ]
    },
    {
      "cell_type": "code",
      "execution_count": null,
      "metadata": {
        "id": "HpB5B4DncsQI"
      },
      "outputs": [],
      "source": [
        "list_model_type = [\n",
        "    # [\"lgb\", \"clicksxcarts\", 1],\n",
        "    # [\"lgb\", \"cartsxorders\", 1],\n",
        "    # [\"lgb\", \"ordersxclicks\", 1],\n",
        "    [\"lgb\", \"clicksxcartsxorders\", 1]\n",
        "\n",
        "]\n",
        "# modelname = \"lgb\"\n",
        "# modelname = \"lgbranker\"\n",
        "# modelname = \"xgb\"\n",
        "# modelname = \"xgbranker\""
      ]
    },
    {
      "cell_type": "code",
      "execution_count": null,
      "metadata": {
        "colab": {
          "base_uri": "https://localhost:8080/"
        },
        "id": "l6NRgbA8g0LB",
        "outputId": "04d97fb7-8f8b-4778-c40f-8d6cb8b45591"
      },
      "outputs": [
        {
          "name": "stdout",
          "output_type": "stream",
          "text": [
            "Mounted at /content/drive\n"
          ]
        }
      ],
      "source": [
        "from google.colab import drive\n",
        "drive.mount('/content/drive')"
      ]
    },
    {
      "cell_type": "code",
      "execution_count": null,
      "metadata": {
        "colab": {
          "base_uri": "https://localhost:8080/"
        },
        "id": "qjOVDQLuhD3V",
        "outputId": "d1304bea-83ca-4eff-bfa3-d8ad0981244b"
      },
      "outputs": [
        {
          "name": "stdout",
          "output_type": "stream",
          "text": [
            "Looking in indexes: https://pypi.org/simple, https://us-python.pkg.dev/colab-wheels/public/simple/\n",
            "Requirement already satisfied: kaggle in /usr/local/lib/python3.8/dist-packages (1.5.12)\n",
            "Requirement already satisfied: python-dateutil in /usr/local/lib/python3.8/dist-packages (from kaggle) (2.8.2)\n",
            "Requirement already satisfied: urllib3 in /usr/local/lib/python3.8/dist-packages (from kaggle) (1.24.3)\n",
            "Requirement already satisfied: certifi in /usr/local/lib/python3.8/dist-packages (from kaggle) (2022.12.7)\n",
            "Requirement already satisfied: python-slugify in /usr/local/lib/python3.8/dist-packages (from kaggle) (7.0.0)\n",
            "Requirement already satisfied: six>=1.10 in /usr/local/lib/python3.8/dist-packages (from kaggle) (1.15.0)\n",
            "Requirement already satisfied: tqdm in /usr/local/lib/python3.8/dist-packages (from kaggle) (4.64.1)\n",
            "Requirement already satisfied: requests in /usr/local/lib/python3.8/dist-packages (from kaggle) (2.25.1)\n",
            "Requirement already satisfied: text-unidecode>=1.3 in /usr/local/lib/python3.8/dist-packages (from python-slugify->kaggle) (1.3)\n",
            "Requirement already satisfied: chardet<5,>=3.0.2 in /usr/local/lib/python3.8/dist-packages (from requests->kaggle) (4.0.0)\n",
            "Requirement already satisfied: idna<3,>=2.5 in /usr/local/lib/python3.8/dist-packages (from requests->kaggle) (2.10)\n"
          ]
        }
      ],
      "source": [
        "!pip install kaggle"
      ]
    },
    {
      "cell_type": "code",
      "execution_count": null,
      "metadata": {
        "id": "yHFRKs04hGPr"
      },
      "outputs": [],
      "source": [
        "import os\n",
        "import json\n",
        "f = open(\"/content/drive/MyDrive/kaggle/kaggle.json\", 'r')\n",
        "json_data = json.load(f) \n",
        "os.environ['KAGGLE_USERNAME'] = json_data['username']\n",
        "os.environ['KAGGLE_KEY'] = json_data['key']"
      ]
    },
    {
      "cell_type": "code",
      "execution_count": null,
      "metadata": {
        "colab": {
          "base_uri": "https://localhost:8080/"
        },
        "id": "S6d7aRyqhIjN",
        "outputId": "713a8246-2cdd-478f-b6bb-9da5cfded1d7"
      },
      "outputs": [
        {
          "name": "stdout",
          "output_type": "stream",
          "text": [
            "Output file downloaded to /content/lgb_models_clicksxcartsxorders.pkl\n",
            "Kernel log downloaded to /content/otto-train-clicksxcartsxorders-lgb.log \n"
          ]
        }
      ],
      "source": [
        "for modelname, types, w in list_model_type:\n",
        "  !kaggle kernels output iwatatakuya/otto-train-$types-$modelname -p /content\n"
      ]
    },
    {
      "cell_type": "code",
      "execution_count": null,
      "metadata": {
        "id": "stHsTmX3mkGk"
      },
      "outputs": [],
      "source": [
        "import torch\n",
        "GPU = torch.cuda.is_available()\n",
        "if GPU:\n",
        "  # Installing RAPIDS is now 'python rapidsai-csp-utils/colab/install_rapids.py <release> <packages>'\n",
        "  # The <release> options are 'stable' and 'nightly'.  Leaving it blank or adding any other words will default to stable.\n",
        "  !python rapidsai-csp-utils/colab/install_rapids.py stable\n",
        "  import os\n",
        "  os.environ['NUMBAPRO_NVVM'] = '/usr/local/cuda/nvvm/lib64/libnvvm.so'\n",
        "  os.environ['NUMBAPRO_LIBDEVICE'] = '/usr/local/cuda/nvvm/libdevice/'\n",
        "  os.environ['CONDA_PREFIX'] = '/usr/local'\n",
        "  import cudf\n",
        "  from cuml import ForestInference\n",
        "  from contextlib import redirect_stdout\n"
      ]
    },
    {
      "cell_type": "markdown",
      "metadata": {
        "id": "ISsyLPA2smWH"
      },
      "source": [
        "# メイン処理"
      ]
    },
    {
      "cell_type": "code",
      "execution_count": null,
      "metadata": {
        "colab": {
          "base_uri": "https://localhost:8080/"
        },
        "id": "AZ0uE1zkZKsb",
        "outputId": "aae9274a-4bca-4cec-afde-15f680c3ef3e"
      },
      "outputs": [
        {
          "name": "stdout",
          "output_type": "stream",
          "text": [
            "notebook started 2023-01-31 08:03:27.454783\n"
          ]
        }
      ],
      "source": [
        "import datetime\n",
        "time_notebook_start = datetime.datetime.now()+datetime.timedelta(hours=9)\n",
        "print(f\"notebook started {time_notebook_start}\")"
      ]
    },
    {
      "cell_type": "code",
      "execution_count": null,
      "metadata": {
        "id": "R-vROTm3sneq"
      },
      "outputs": [],
      "source": [
        "import numpy as np\n",
        "import pandas as pd\n",
        "from tqdm.notebook import tqdm\n",
        "import glob\n",
        "import time\n",
        "import matplotlib.pyplot as plt\n",
        "\n",
        "\n",
        "from sklearn.model_selection import GroupKFold\n",
        "import lightgbm as lgb\n",
        "\n",
        "import gc"
      ]
    },
    {
      "cell_type": "code",
      "execution_count": null,
      "metadata": {
        "id": "MaLEswUjsxrJ"
      },
      "outputs": [],
      "source": [
        "n_pred = 20 # sessionごとに予測するaidの数（固定）\n",
        "weight = {\"clicks\": 0.1, \"carts\": 0.3, \"orders\": 0.6}\n",
        "\n",
        "types_nb = \"orders\"\n",
        "\n",
        "path_input_feat = f\"/content/drive/MyDrive/kaggle/otto/feature_label_valid_{{}}_{{}}.pickle\"\n",
        "path_input_label = {}\n",
        "path_input_model = {}\n",
        "for types in [\"clicks\", \"carts\", \"orders\"]:\n",
        "  path_input_label[types] = f\"/content/drive/MyDrive/kaggle/otto/n_ground_truth_valid_{types}.csv.gz\"\n",
        "for modelname, types_model, w in list_model_type:\n",
        "  path_input_model[modelname+types_model] = f\"/content/{modelname}_models_{types_model}.pkl\"\n",
        "\n",
        "\n",
        "n_session = {\"train1\": 2237925, \"valid\": 1735763}\n",
        "sample_size = 2000000"
      ]
    },
    {
      "cell_type": "code",
      "execution_count": null,
      "metadata": {
        "id": "9ZP_qPRXtO18"
      },
      "outputs": [],
      "source": [
        "def reduce_mem_usage(df, verbose=True):\n",
        "    numerics = ['int16', 'int32', 'int64', 'float16', 'float32', 'float64']\n",
        "    start_mem = df.memory_usage().sum() / 1024**2\n",
        "    for col in df.columns:\n",
        "        col_type = df[col].dtypes\n",
        "        if col_type in numerics:\n",
        "            c_min = df[col].min()\n",
        "            c_max = df[col].max()\n",
        "            if str(col_type)[:3] == 'int':\n",
        "                if c_min > np.iinfo(np.int8).min and c_max < np.iinfo(np.int8).max:\n",
        "                    df[col] = df[col].astype(np.int8)\n",
        "                elif c_min > np.iinfo(np.int16).min and c_max < np.iinfo(np.int16).max:\n",
        "                    df[col] = df[col].astype(np.int16)\n",
        "                elif c_min > np.iinfo(np.int32).min and c_max < np.iinfo(np.int32).max:\n",
        "                    df[col] = df[col].astype(np.int32)\n",
        "                elif c_min > np.iinfo(np.int64).min and c_max < np.iinfo(np.int64).max:\n",
        "                    df[col] = df[col].astype(np.int64)\n",
        "            else:\n",
        "                if c_min > np.finfo(np.float16).min and c_max < np.finfo(np.float16).max:\n",
        "                    df[col] = df[col].astype(np.float16)\n",
        "                elif c_min > np.finfo(np.float32).min and c_max < np.finfo(np.float32).max:\n",
        "                    df[col] = df[col].astype(np.float32)\n",
        "                else:\n",
        "                    df[col] = df[col].astype(np.float64)\n",
        "    end_mem = df.memory_usage().sum() / 1024**2\n",
        "    if verbose: print('Mem. usage decreased to {:5.2f} Mb ({:.1f}% reduction)'.format(end_mem, 100 * (start_mem - end_mem) / start_mem))\n",
        "    return df"
      ]
    },
    {
      "cell_type": "code",
      "execution_count": null,
      "metadata": {
        "id": "o_d9NMtJtRsN"
      },
      "outputs": [],
      "source": [
        "def calc_score(df_score):\n",
        "    # 予測値をsessionごとに降順ソートして、上位20件のみ取得する\n",
        "    df_score = df_score.sort_values([\"session\",\"pred\"],ascending = False)\n",
        "\n",
        "    for types in [\"clicks\", \"carts\", \"orders\"]:\n",
        "      df_eval = df_score.groupby(\"session\").head(n_pred)\n",
        "      df_eval = df_eval.groupby(\"session\")[f\"label_{types}\"].sum().reset_index()\n",
        "      df_label = {}\n",
        "      # ground truth個数データを読み込み\n",
        "      df_label = pd.read_csv(path_input_label[types])\n",
        "      # ground truthが20を超えている場合は20にする\n",
        "      df_label[f\"n_ground_truth_{types}\"] = df_label[\"n_ground_truth\"].where(df_label[\"n_ground_truth\"] < 20, 20)\n",
        "      df_eval = pd.merge(df_eval, df_label[[\"session\", f\"n_ground_truth_{types}\"]], how = \"left\", on = \"session\")\n",
        "     # スコアを計算\n",
        "      score = df_eval[f\"label_{types}\"].sum() / df_eval[f\"n_ground_truth_{types}\"].sum()\n",
        "      print(f\"{types}: {score}\")\n"
      ]
    },
    {
      "cell_type": "code",
      "execution_count": null,
      "metadata": {
        "id": "pBaUSeRLs4DB"
      },
      "outputs": [],
      "source": [
        "list_files = glob.glob(path_input_feat.format('feat','*'))"
      ]
    },
    {
      "cell_type": "code",
      "execution_count": null,
      "metadata": {
        "colab": {
          "base_uri": "https://localhost:8080/",
          "height": 369,
          "referenced_widgets": [
            "4648cfdb8abd41958108d4034464c712",
            "b422af067d5445768edf0cab56cf52c3",
            "dbc12e7016d7486e99bdf944f6a6a5ac",
            "034ed9502b674b67bd4ee64f0b955d07",
            "a97da2e2ce6d42d2a9896e6a746d8c0e",
            "8e1deeee19844a0b89ac219833fa9aa2",
            "af1bedbf33f841139130fe8816966779",
            "411b7d7415064c32aa50ecb989402b41",
            "3c9ee5f2714643929ff69ec475f2c53d",
            "a4a2535ef72d4ddf9614667e9ba1dab4",
            "74f30ff1a7574ec98afcf36ef5538382"
          ]
        },
        "id": "9AA9SQavtkN1",
        "outputId": "6d03f45e-290e-4f67-dd34-44ef891b8959"
      },
      "outputs": [
        {
          "name": "stdout",
          "output_type": "stream",
          "text": [
            "start new eval\n"
          ]
        },
        {
          "data": {
            "application/vnd.jupyter.widget-view+json": {
              "model_id": "4648cfdb8abd41958108d4034464c712",
              "version_major": 2,
              "version_minor": 0
            },
            "text/plain": [
              "  0%|          | 0/178 [00:00<?, ?it/s]"
            ]
          },
          "metadata": {},
          "output_type": "display_data"
        },
        {
          "name": "stdout",
          "output_type": "stream",
          "text": [
            "clicks: 0.4552123806091694\n",
            "carts: 0.37649085679690575\n",
            "orders: 0.6308547875298505\n"
          ]
        },
        {
          "data": {
            "image/png": "[encoded data removed]",
            "text/plain": [
              "<Figure size 432x288 with 1 Axes>"
            ]
          },
          "metadata": {
            "needs_background": "light"
          },
          "output_type": "display_data"
        }
      ],
      "source": [
        "if os.path.exists(f\"/content/drive/MyDrive/kaggle/otto/save_eval_chunk_{types_nb}.pkl\"):\n",
        "  df_score = pd.read_pickle(f\"/content/drive/MyDrive/kaggle/otto/save_eval_chunk_{types_nb}.pkl\")\n",
        "  print(f\"use existing eval (n_chunk:{df_score['n_chunk']})\")\n",
        "else:\n",
        "  print(\"start new eval\")\n",
        "  df_score = {}\n",
        "  df_score[\"n_chunk\"] = 0\n",
        "  df_score[\"score\"] = []\n",
        "# for n_chunk in tqdm(range(48)):\n",
        "for n_chunk in tqdm(range(len(list_files))):\n",
        "\n",
        "  if n_chunk < df_score[\"n_chunk\"]: continue\n",
        "  feat = pd.read_pickle(path_input_feat.format(\"feat\", n_chunk))\n",
        "  label_clicks = pd.read_pickle(path_input_feat.format(\"clicks\", n_chunk))\n",
        "  label_carts = pd.read_pickle(path_input_feat.format(\"carts\", n_chunk))\n",
        "  label_orders = pd.read_pickle(path_input_feat.format(\"orders\", n_chunk))\n",
        "\n",
        "  df_Xy = pd.concat([feat, label_clicks, label_carts, label_orders], axis = 1)\n",
        "  df_Xy = reduce_mem_usage(df_Xy, verbose = False)\n",
        "  df_X = df_Xy.drop([\"session\", \"label_clicks\", \"label_carts\", \"label_orders\"], axis = 1)\n",
        "  pred = np.zeros(len(df_Xy))\n",
        "  # validデータに対して予測を実施\n",
        "  for modelname, types_model, w in list_model_type:\n",
        "    # モデル読み込み\n",
        "    list_model = pd.read_pickle(path_input_model[modelname+types_model])\n",
        "    if GPU:\n",
        "      for model in list_model:\n",
        "        model.save_model(\"/content/lgbm.model\")\n",
        "        with redirect_stdout(open(os.devnull, 'w')):\n",
        "          if modelname in [\"lgb\", \"lgbranker\"]:\n",
        "            fm = ForestInference.load(filename=\"/content/lgbm.model\",output_class=True,model_type='lightgbm')\n",
        "          elif modelname in [\"xgb\", \"xgbranker\"]:\n",
        "            fm = ForestInference.load(filename=\"/content/lgbm.model\",output_class=True,model_type='xgboost')\n",
        "          else:\n",
        "            print(\"modelname error\")\n",
        "          if modelname in [\"lgb\", \"xgb\"]:\n",
        "            pred += w*fm.predict_proba(df_X)[:,1] / len(list_model)   \n",
        "          elif modelname in [\"lgbranker\", \"xgbranker\"]:\n",
        "            pred += w*fm.predict(df_X) / len(list_model)  \n",
        "    else:\n",
        "      for model in list_model:\n",
        "          pred += model.predict(df_X) / len(list_model)\n",
        "  if n_chunk == 0:\n",
        "    plt.hist(pred)\n",
        "  df_Xy_pred =  df_Xy[[\"session\", \"label_clicks\", \"label_carts\", \"label_orders\"]].copy()\n",
        "  df_Xy_pred[\"pred\"] = pred\n",
        "  # sessionごとの上位20件のみ保持する\n",
        "  df_Xy_pred = df_Xy_pred.sort_values([\"session\",\"pred\"],ascending = False)\n",
        "  df_Xy_pred = df_Xy_pred.groupby(\"session\").head(n_pred)\n",
        "  df_score[\"score\"].append(df_Xy_pred)\n",
        "  df_score[\"n_chunk\"] += 1\n",
        "  # chunkの進行状況を保存\n",
        "  pd.to_pickle(df_score, f\"/content/drive/MyDrive/kaggle/otto/save_eval_chunk_{types_nb}.pkl\")\n",
        "df_score[\"score\"] = pd.concat(df_score[\"score\"])\n",
        "calc_score(df_score[\"score\"])"
      ]
    },
    {
      "cell_type": "code",
      "execution_count": null,
      "metadata": {
        "id": "TAPiJ9inxAH0"
      },
      "outputs": [],
      "source": [
        "import os\n",
        "os.remove(f\"/content/drive/MyDrive/kaggle/otto/save_eval_chunk_{types_nb}.pkl\")"
      ]
    },
    {
      "cell_type": "code",
      "execution_count": null,
      "metadata": {
        "colab": {
          "base_uri": "https://localhost:8080/"
        },
        "id": "axsDy67IKpTW",
        "outputId": "fa3e7d9d-0e2f-4c36-983c-409de2b4f63e"
      },
      "outputs": [
        {
          "name": "stdout",
          "output_type": "stream",
          "text": [
            "notebook started 2023-01-31 08:03:27.454783\n",
            "notebook ended 2023-01-31 09:55:54.756178\n",
            "elapsed 1:52:27.301395\n"
          ]
        }
      ],
      "source": [
        "time_notebook_end = datetime.datetime.now()+datetime.timedelta(hours=9)\n",
        "time_notebook_elapsed = time_notebook_end - time_notebook_start\n",
        "print(f\"notebook started {time_notebook_start}\")\n",
        "print(f\"notebook ended {time_notebook_end}\")\n",
        "print(f\"elapsed {time_notebook_elapsed}\")\n"
      ]
    },
    {
      "cell_type": "code",
      "execution_count": null,
      "metadata": {
        "colab": {
          "base_uri": "https://localhost:8080/"
        },
        "id": "CA0MQ_E9ApP7",
        "outputId": "0d29d1a1-8a46-4b10-cce4-9ad07f4b17ec"
      },
      "outputs": [
        {
          "data": {
            "text/plain": [
              "<Response [200]>"
            ]
          },
          "execution_count": 19,
          "metadata": {},
          "output_type": "execute_result"
        }
      ],
      "source": [
        "import requests\n",
        "\n",
        "notebook_name = \"otto - evaluate - orders\"\n",
        "message = f\"{notebook_name}のコミットが完了しました。\"\n",
        "\n",
        "line_token = 'xxxxxxxxxxxx'\n",
        "endpoint = 'https://notify-api.line.me/api/notify'\n",
        "message = \"\\n{}\".format(message)\n",
        "payload = {'message': message}\n",
        "headers = {'Authorization': 'Bearer {}'.format(line_token)}\n",
        "requests.post(endpoint, data=payload, headers=headers)"
      ]
    },
    {
      "cell_type": "code",
      "execution_count": null,
      "metadata": {
        "id": "1NsdelZ0qzD9"
      },
      "outputs": [],
      "source": [
        "import time\n",
        "time.sleep(60)\n",
        "from google.colab import runtime\n",
        "runtime.unassign()"
      ]
    },
    {
      "cell_type": "code",
      "execution_count": null,
      "metadata": {
        "id": "4-T9HQItnGZ7"
      },
      "outputs": [],
      "source": []
    }
  ],
  "metadata": {
    "colab": {
      "machine_shape": "hm",
      "provenance": []
    },
    "gpuClass": "standard",
    "kernelspec": {
      "display_name": "Python 3",
      "name": "python3"
    },
    "language_info": {
      "name": "python"
    },
    "widgets": {
      "application/vnd.jupyter.widget-state+json": {
        "034ed9502b674b67bd4ee64f0b955d07": {
          "model_module": "@jupyter-widgets/controls",
          "model_module_version": "1.5.0",
          "model_name": "HTMLModel",
          "state": {
            "_dom_classes": [],
            "_model_module": "@jupyter-widgets/controls",
            "_model_module_version": "1.5.0",
            "_model_name": "HTMLModel",
            "_view_count": null,
            "_view_module": "@jupyter-widgets/controls",
            "_view_module_version": "1.5.0",
            "_view_name": "HTMLView",
            "description": "",
            "description_tooltip": null,
            "layout": "IPY_MODEL_a4a2535ef72d4ddf9614667e9ba1dab4",
            "placeholder": "​",
            "style": "IPY_MODEL_74f30ff1a7574ec98afcf36ef5538382",
            "value": " 178/178 [1:50:46&lt;00:00, 33.48s/it]"
          }
        },
        "3c9ee5f2714643929ff69ec475f2c53d": {
          "model_module": "@jupyter-widgets/controls",
          "model_module_version": "1.5.0",
          "model_name": "ProgressStyleModel",
          "state": {
            "_model_module": "@jupyter-widgets/controls",
            "_model_module_version": "1.5.0",
            "_model_name": "ProgressStyleModel",
            "_view_count": null,
            "_view_module": "@jupyter-widgets/base",
            "_view_module_version": "1.2.0",
            "_view_name": "StyleView",
            "bar_color": null,
            "description_width": ""
          }
        },
        "411b7d7415064c32aa50ecb989402b41": {
          "model_module": "@jupyter-widgets/base",
          "model_module_version": "1.2.0",
          "model_name": "LayoutModel",
          "state": {
            "_model_module": "@jupyter-widgets/base",
            "_model_module_version": "1.2.0",
            "_model_name": "LayoutModel",
            "_view_count": null,
            "_view_module": "@jupyter-widgets/base",
            "_view_module_version": "1.2.0",
            "_view_name": "LayoutView",
            "align_content": null,
            "align_items": null,
            "align_self": null,
            "border": null,
            "bottom": null,
            "display": null,
            "flex": null,
            "flex_flow": null,
            "grid_area": null,
            "grid_auto_columns": null,
            "grid_auto_flow": null,
            "grid_auto_rows": null,
            "grid_column": null,
            "grid_gap": null,
            "grid_row": null,
            "grid_template_areas": null,
            "grid_template_columns": null,
            "grid_template_rows": null,
            "height": null,
            "justify_content": null,
            "justify_items": null,
            "left": null,
            "margin": null,
            "max_height": null,
            "max_width": null,
            "min_height": null,
            "min_width": null,
            "object_fit": null,
            "object_position": null,
            "order": null,
            "overflow": null,
            "overflow_x": null,
            "overflow_y": null,
            "padding": null,
            "right": null,
            "top": null,
            "visibility": null,
            "width": null
          }
        },
        "4648cfdb8abd41958108d4034464c712": {
          "model_module": "@jupyter-widgets/controls",
          "model_module_version": "1.5.0",
          "model_name": "HBoxModel",
          "state": {
            "_dom_classes": [],
            "_model_module": "@jupyter-widgets/controls",
            "_model_module_version": "1.5.0",
            "_model_name": "HBoxModel",
            "_view_count": null,
            "_view_module": "@jupyter-widgets/controls",
            "_view_module_version": "1.5.0",
            "_view_name": "HBoxView",
            "box_style": "",
            "children": [
              "IPY_MODEL_b422af067d5445768edf0cab56cf52c3",
              "IPY_MODEL_dbc12e7016d7486e99bdf944f6a6a5ac",
              "IPY_MODEL_034ed9502b674b67bd4ee64f0b955d07"
            ],
            "layout": "IPY_MODEL_a97da2e2ce6d42d2a9896e6a746d8c0e"
          }
        },
        "74f30ff1a7574ec98afcf36ef5538382": {
          "model_module": "@jupyter-widgets/controls",
          "model_module_version": "1.5.0",
          "model_name": "DescriptionStyleModel",
          "state": {
            "_model_module": "@jupyter-widgets/controls",
            "_model_module_version": "1.5.0",
            "_model_name": "DescriptionStyleModel",
            "_view_count": null,
            "_view_module": "@jupyter-widgets/base",
            "_view_module_version": "1.2.0",
            "_view_name": "StyleView",
            "description_width": ""
          }
        },
        "8e1deeee19844a0b89ac219833fa9aa2": {
          "model_module": "@jupyter-widgets/base",
          "model_module_version": "1.2.0",
          "model_name": "LayoutModel",
          "state": {
            "_model_module": "@jupyter-widgets/base",
            "_model_module_version": "1.2.0",
            "_model_name": "LayoutModel",
            "_view_count": null,
            "_view_module": "@jupyter-widgets/base",
            "_view_module_version": "1.2.0",
            "_view_name": "LayoutView",
            "align_content": null,
            "align_items": null,
            "align_self": null,
            "border": null,
            "bottom": null,
            "display": null,
            "flex": null,
            "flex_flow": null,
            "grid_area": null,
            "grid_auto_columns": null,
            "grid_auto_flow": null,
            "grid_auto_rows": null,
            "grid_column": null,
            "grid_gap": null,
            "grid_row": null,
            "grid_template_areas": null,
            "grid_template_columns": null,
            "grid_template_rows": null,
            "height": null,
            "justify_content": null,
            "justify_items": null,
            "left": null,
            "margin": null,
            "max_height": null,
            "max_width": null,
            "min_height": null,
            "min_width": null,
            "object_fit": null,
            "object_position": null,
            "order": null,
            "overflow": null,
            "overflow_x": null,
            "overflow_y": null,
            "padding": null,
            "right": null,
            "top": null,
            "visibility": null,
            "width": null
          }
        },
        "a4a2535ef72d4ddf9614667e9ba1dab4": {
          "model_module": "@jupyter-widgets/base",
          "model_module_version": "1.2.0",
          "model_name": "LayoutModel",
          "state": {
            "_model_module": "@jupyter-widgets/base",
            "_model_module_version": "1.2.0",
            "_model_name": "LayoutModel",
            "_view_count": null,
            "_view_module": "@jupyter-widgets/base",
            "_view_module_version": "1.2.0",
            "_view_name": "LayoutView",
            "align_content": null,
            "align_items": null,
            "align_self": null,
            "border": null,
            "bottom": null,
            "display": null,
            "flex": null,
            "flex_flow": null,
            "grid_area": null,
            "grid_auto_columns": null,
            "grid_auto_flow": null,
            "grid_auto_rows": null,
            "grid_column": null,
            "grid_gap": null,
            "grid_row": null,
            "grid_template_areas": null,
            "grid_template_columns": null,
            "grid_template_rows": null,
            "height": null,
            "justify_content": null,
            "justify_items": null,
            "left": null,
            "margin": null,
            "max_height": null,
            "max_width": null,
            "min_height": null,
            "min_width": null,
            "object_fit": null,
            "object_position": null,
            "order": null,
            "overflow": null,
            "overflow_x": null,
            "overflow_y": null,
            "padding": null,
            "right": null,
            "top": null,
            "visibility": null,
            "width": null
          }
        },
        "a97da2e2ce6d42d2a9896e6a746d8c0e": {
          "model_module": "@jupyter-widgets/base",
          "model_module_version": "1.2.0",
          "model_name": "LayoutModel",
          "state": {
            "_model_module": "@jupyter-widgets/base",
            "_model_module_version": "1.2.0",
            "_model_name": "LayoutModel",
            "_view_count": null,
            "_view_module": "@jupyter-widgets/base",
            "_view_module_version": "1.2.0",
            "_view_name": "LayoutView",
            "align_content": null,
            "align_items": null,
            "align_self": null,
            "border": null,
            "bottom": null,
            "display": null,
            "flex": null,
            "flex_flow": null,
            "grid_area": null,
            "grid_auto_columns": null,
            "grid_auto_flow": null,
            "grid_auto_rows": null,
            "grid_column": null,
            "grid_gap": null,
            "grid_row": null,
            "grid_template_areas": null,
            "grid_template_columns": null,
            "grid_template_rows": null,
            "height": null,
            "justify_content": null,
            "justify_items": null,
            "left": null,
            "margin": null,
            "max_height": null,
            "max_width": null,
            "min_height": null,
            "min_width": null,
            "object_fit": null,
            "object_position": null,
            "order": null,
            "overflow": null,
            "overflow_x": null,
            "overflow_y": null,
            "padding": null,
            "right": null,
            "top": null,
            "visibility": null,
            "width": null
          }
        },
        "af1bedbf33f841139130fe8816966779": {
          "model_module": "@jupyter-widgets/controls",
          "model_module_version": "1.5.0",
          "model_name": "DescriptionStyleModel",
          "state": {
            "_model_module": "@jupyter-widgets/controls",
            "_model_module_version": "1.5.0",
            "_model_name": "DescriptionStyleModel",
            "_view_count": null,
            "_view_module": "@jupyter-widgets/base",
            "_view_module_version": "1.2.0",
            "_view_name": "StyleView",
            "description_width": ""
          }
        },
        "b422af067d5445768edf0cab56cf52c3": {
          "model_module": "@jupyter-widgets/controls",
          "model_module_version": "1.5.0",
          "model_name": "HTMLModel",
          "state": {
            "_dom_classes": [],
            "_model_module": "@jupyter-widgets/controls",
            "_model_module_version": "1.5.0",
            "_model_name": "HTMLModel",
            "_view_count": null,
            "_view_module": "@jupyter-widgets/controls",
            "_view_module_version": "1.5.0",
            "_view_name": "HTMLView",
            "description": "",
            "description_tooltip": null,
            "layout": "IPY_MODEL_8e1deeee19844a0b89ac219833fa9aa2",
            "placeholder": "​",
            "style": "IPY_MODEL_af1bedbf33f841139130fe8816966779",
            "value": "100%"
          }
        },
        "dbc12e7016d7486e99bdf944f6a6a5ac": {
          "model_module": "@jupyter-widgets/controls",
          "model_module_version": "1.5.0",
          "model_name": "FloatProgressModel",
          "state": {
            "_dom_classes": [],
            "_model_module": "@jupyter-widgets/controls",
            "_model_module_version": "1.5.0",
            "_model_name": "FloatProgressModel",
            "_view_count": null,
            "_view_module": "@jupyter-widgets/controls",
            "_view_module_version": "1.5.0",
            "_view_name": "ProgressView",
            "bar_style": "success",
            "description": "",
            "description_tooltip": null,
            "layout": "IPY_MODEL_411b7d7415064c32aa50ecb989402b41",
            "max": 178,
            "min": 0,
            "orientation": "horizontal",
            "style": "IPY_MODEL_3c9ee5f2714643929ff69ec475f2c53d",
            "value": 178
          }
        }
      }
    }
  },
  "nbformat": 4,
  "nbformat_minor": 0
}
