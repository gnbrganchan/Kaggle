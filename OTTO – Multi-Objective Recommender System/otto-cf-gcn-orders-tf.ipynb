{
 "cells": [
  {
   "cell_type": "code",
   "execution_count": 1,
   "id": "a8c1fcd5",
   "metadata": {
    "execution": {
     "iopub.execute_input": "2022-12-27T04:55:13.820604Z",
     "iopub.status.busy": "2022-12-27T04:55:13.819691Z",
     "iopub.status.idle": "2022-12-27T04:55:18.788034Z",
     "shell.execute_reply": "2022-12-27T04:55:18.786881Z"
    },
    "papermill": {
     "duration": 4.976284,
     "end_time": "2022-12-27T04:55:18.790911",
     "exception": false,
     "start_time": "2022-12-27T04:55:13.814627",
     "status": "completed"
    },
    "tags": []
   },
   "outputs": [
    {
     "name": "stdout",
     "output_type": "stream",
     "text": [
      "Cloning into 'LightGCN'...\r\n",
      "remote: Enumerating objects: 101, done.\u001b[K\r\n",
      "remote: Counting objects: 100% (9/9), done.\u001b[K\r\n",
      "remote: Compressing objects: 100% (9/9), done.\u001b[K\r\n",
      "remote: Total 101 (delta 3), reused 4 (delta 0), pack-reused 92\u001b[K\r\n",
      "Receiving objects: 100% (101/101), 16.79 MiB | 6.90 MiB/s, done.\r\n",
      "Resolving deltas: 100% (29/29), done.\r\n"
     ]
    }
   ],
   "source": [
    "!git clone https://github.com/kuandeng/LightGCN"
   ]
  },
  {
   "cell_type": "code",
   "execution_count": 2,
   "id": "65b7f60d",
   "metadata": {
    "execution": {
     "iopub.execute_input": "2022-12-27T04:55:18.800122Z",
     "iopub.status.busy": "2022-12-27T04:55:18.799159Z",
     "iopub.status.idle": "2022-12-27T04:55:19.739929Z",
     "shell.execute_reply": "2022-12-27T04:55:19.738781Z"
    },
    "papermill": {
     "duration": 0.947652,
     "end_time": "2022-12-27T04:55:19.742262",
     "exception": false,
     "start_time": "2022-12-27T04:55:18.794610",
     "status": "completed"
    },
    "tags": []
   },
   "outputs": [
    {
     "name": "stdout",
     "output_type": "stream",
     "text": [
      "/kaggle/working/LightGCN\n",
      "Data  LightGCN.py  README.md  evaluator  setup.py  utility\r\n"
     ]
    }
   ],
   "source": [
    "%cd LightGCN\n",
    "!ls"
   ]
  },
  {
   "cell_type": "code",
   "execution_count": 3,
   "id": "82c37526",
   "metadata": {
    "execution": {
     "iopub.execute_input": "2022-12-27T04:55:19.751556Z",
     "iopub.status.busy": "2022-12-27T04:55:19.751246Z",
     "iopub.status.idle": "2022-12-27T04:55:20.679361Z",
     "shell.execute_reply": "2022-12-27T04:55:20.678287Z"
    },
    "papermill": {
     "duration": 0.935623,
     "end_time": "2022-12-27T04:55:20.682062",
     "exception": false,
     "start_time": "2022-12-27T04:55:19.746439",
     "status": "completed"
    },
    "tags": []
   },
   "outputs": [],
   "source": [
    "import numpy as np\n",
    "from gensim.models import Word2Vec, KeyedVectors\n",
    "def load_embeddings(embeddings_file):\n",
    "    # load embeddings from word2vec format file\n",
    "    model = KeyedVectors.load_word2vec_format(embeddings_file, binary=False)\n",
    "    features_matrix = np.asarray([model[str(node)] for node in range(len(model.index_to_key))])\n",
    "    return features_matrix"
   ]
  },
  {
   "cell_type": "code",
   "execution_count": 4,
   "id": "826546f5",
   "metadata": {
    "_cell_guid": "b1076dfc-b9ad-4769-8c92-a6c4dae69d19",
    "_uuid": "8f2839f25d086af736a60e9eeb907d3b93b6e0e5",
    "execution": {
     "iopub.execute_input": "2022-12-27T04:55:20.691310Z",
     "iopub.status.busy": "2022-12-27T04:55:20.690514Z",
     "iopub.status.idle": "2022-12-27T04:55:20.778413Z",
     "shell.execute_reply": "2022-12-27T04:55:20.777566Z"
    },
    "papermill": {
     "duration": 0.094685,
     "end_time": "2022-12-27T04:55:20.780456",
     "exception": false,
     "start_time": "2022-12-27T04:55:20.685771",
     "status": "completed"
    },
    "tags": []
   },
   "outputs": [],
   "source": [
    "import pandas as pd\n",
    "from numpy import dot\n",
    "import random\n",
    "import os\n",
    "\n",
    "import json\n",
    "from tqdm.notebook import tqdm"
   ]
  },
  {
   "cell_type": "code",
   "execution_count": 5,
   "id": "3d9d2397",
   "metadata": {
    "execution": {
     "iopub.execute_input": "2022-12-27T04:55:20.788571Z",
     "iopub.status.busy": "2022-12-27T04:55:20.788299Z",
     "iopub.status.idle": "2022-12-27T04:55:20.795725Z",
     "shell.execute_reply": "2022-12-27T04:55:20.794901Z"
    },
    "papermill": {
     "duration": 0.013698,
     "end_time": "2022-12-27T04:55:20.797695",
     "exception": false,
     "start_time": "2022-12-27T04:55:20.783997",
     "status": "completed"
    },
    "tags": []
   },
   "outputs": [],
   "source": [
    "path_input = {}\n",
    "path_input_label = {}\n",
    "path_input_past = {}\n",
    "path_output = {}\n",
    "for i in [\"train\", \"valid\"]:\n",
    "    path_input[i] = f\"/kaggle/input/otto-make-data-train-test-split/{i}.jsonl\"\n",
    "    path_input_label[i] = f\"/kaggle/input/otto-make-data-label/label_{i}.parquet\"\n",
    "    path_input_past[i] = f\"/kaggle/input/otto-make-data-past-event/past_event_{i}.pickle\"\n",
    "    os.makedirs(f\"Data/{i}\", exist_ok = True)\n",
    "    path_output[i] = {}\n",
    "    for j in [\"train\", \"test\"]:\n",
    "        path_output[i][j] = f\"Data/{i}/{j}.txt\"\n",
    "    \n",
    "sample_size = 150000\n",
    "N = 10\n",
    "\n",
    "event_type = \"orders\""
   ]
  },
  {
   "cell_type": "code",
   "execution_count": 6,
   "id": "9aed9fb3",
   "metadata": {
    "execution": {
     "iopub.execute_input": "2022-12-27T04:55:20.805896Z",
     "iopub.status.busy": "2022-12-27T04:55:20.805631Z",
     "iopub.status.idle": "2022-12-27T04:59:35.368492Z",
     "shell.execute_reply": "2022-12-27T04:59:35.367452Z"
    },
    "papermill": {
     "duration": 254.571793,
     "end_time": "2022-12-27T04:59:35.372968",
     "exception": false,
     "start_time": "2022-12-27T04:55:20.801175",
     "status": "completed"
    },
    "tags": []
   },
   "outputs": [
    {
     "data": {
      "application/vnd.jupyter.widget-view+json": {
       "model_id": "becc0809b99447e3b9c724a641ad537f",
       "version_major": 2,
       "version_minor": 0
      },
      "text/plain": [
       "0it [00:00, ?it/s]"
      ]
     },
     "metadata": {},
     "output_type": "display_data"
    },
    {
     "name": "stdout",
     "output_type": "stream",
     "text": [
      "valid 49059\n",
      "valid 40387\n"
     ]
    },
    {
     "data": {
      "application/vnd.jupyter.widget-view+json": {
       "model_id": "c9ad8765d01c4dc08999146b6d6c8105",
       "version_major": 2,
       "version_minor": 0
      },
      "text/plain": [
       "0it [00:00, ?it/s]"
      ]
     },
     "metadata": {},
     "output_type": "display_data"
    }
   ],
   "source": [
    "# for i in [\"train\", \"valid\"]:\n",
    "for i in [\"valid\"]:\n",
    "    file = {}\n",
    "    # list_aidのorder履歴のあるsessionを記録する\n",
    "    list_session = []\n",
    "    set_aid = set()\n",
    "    chunks = pd.read_json(path_input[i], lines = True, chunksize = sample_size)\n",
    "    for df_chunk in tqdm(chunks):\n",
    "        for j, session in df_chunk.iterrows():\n",
    "            session = session.to_dict()\n",
    "            list_event = session[\"events\"][:session[\"cutoff\"]]\n",
    "            list_aid_ses = [event[\"aid\"] for event in list_event if event[\"type\"] == event_type]\n",
    "            if len(list_aid_ses) > 0: # 1つ以上orderがあるsessionのみ保持する\n",
    "                list_session.append(session[\"session\"])\n",
    "                set_aid |= set(list_aid_ses)\n",
    "    list_aid = list(set_aid)\n",
    "    set_session = set(list_session)\n",
    "    print(i, len(list_aid))\n",
    "    print(i, len(list_session))\n",
    "    \n",
    "    # idとindexの変換dictを作成する\n",
    "    session2idx = dict(zip(list_session, range(len(list_session))))\n",
    "    aid2idx = dict(zip(list_aid, range(len(list_session),len(list_session) + len(list_aid))))\n",
    "\n",
    "    for j in [\"train\", \"test\"]: file[j] = open(path_output[i][j], \"w\")\n",
    "    chunks = pd.read_json(path_input[i],lines = True, chunksize = sample_size)\n",
    "    for df_chunk in tqdm(chunks):\n",
    "        for j, session in df_chunk.iterrows():\n",
    "            if not session[\"session\"] in set_session: continue\n",
    "            list_event = session[\"events\"][:session[\"cutoff\"]] # validはcutoff以前のeventのみ使える\n",
    "            list_aid_ses = []\n",
    "            for event in list_event:\n",
    "                if event[\"type\"] == event_type and event[\"aid\"] in set_aid:\n",
    "                    list_aid_ses.append(str(event[\"aid\"]))\n",
    "            if len(list_aid_ses) > 1:\n",
    "                list_aid_ses = random.sample(list_aid_ses, len(list_aid_ses))\n",
    "            else:\n",
    "                list_aid_ses = list_aid_ses * 2 # train_test_splitできるように要素をダブらせる\n",
    "            \n",
    "            file[\"train\"].write(str(session2idx[session[\"session\"]]) + \" \" + \" \".join(list_aid_ses[:(len(list_aid_ses)//2)]) + \"\\n\")\n",
    "            file[\"test\"].write(str(session2idx[session[\"session\"]]) + \" \" + \" \".join(list_aid_ses[(len(list_aid_ses)//2):]) + \"\\n\")\n",
    "    for k in [\"train\", \"test\"]:file[k].close()\n",
    "#     emb = load_embeddings(\"emb_spectral.emb\")\n",
    "#     display(emb.shape)\n",
    "#     pred = {}\n",
    "#     dict_past = pd.read_pickle(path_input_past[i])\n",
    "#     chunksize = 1000\n",
    "#     ses_idx_from = 0\n",
    "#     pred = {}\n",
    "#     pbar = tqdm(total = len(list_session)//chunksize + 1)\n",
    "#     while(ses_idx_from < len(list_session)):\n",
    "#         if (ses_idx_from + chunksize) < len(list_session): ses_idx_to = ses_idx_from + chunksize\n",
    "#         else: ses_idx_to = len(list_session)\n",
    "#         list_session_chunk = list_session[ses_idx_from:ses_idx_to]   \n",
    "#         list_session_idx = [session2idx[session] for session in list_session_chunk]\n",
    "#         mat_dist = dot(emb[list_session_idx], emb[range(len(list_session),len(list_session) + len(list_aid))].T)\n",
    "#         mat_dist_p = [[dist if list_aid[idx] not in dict_past[event_type][list_session[ses_idx_from+sesidx]] else -1 for idx, dist in enumerate(ses) ] for sesidx, ses in enumerate(mat_dist)]   \n",
    "#         pred_chunk = dict(zip(list_session_chunk, [[list_aid[aididx] for aididx in np.argsort(x)[::-1][:N]] for x in mat_dist_p]))\n",
    "#         pred.update(pred_chunk)\n",
    "#         ses_idx_from = ses_idx_to\n",
    "#         pbar.update(1)\n",
    "# #         break\n",
    "# #     break\n",
    "#     # カバー率を計算\n",
    "#     df_label = pd.read_parquet(path_input_label[i])\n",
    "#     n_all, n_hit= 0,0\n",
    "#     for ses, label in tqdm(zip(df_label[\"session\"],df_label[f\"label_{event_type}\"])):\n",
    "#         n_all += len(label)\n",
    "#         pred_ses = pred.get(ses, [])\n",
    "#         n_hit += sum([1 for x in pred_ses if x in label])\n",
    "\n",
    "#     print(f\"{i}: {n_hit/n_all}\")\n"
   ]
  },
  {
   "cell_type": "code",
   "execution_count": 7,
   "id": "c79e476d",
   "metadata": {
    "execution": {
     "iopub.execute_input": "2022-12-27T04:59:35.381480Z",
     "iopub.status.busy": "2022-12-27T04:59:35.381186Z",
     "iopub.status.idle": "2022-12-27T06:07:51.023289Z",
     "shell.execute_reply": "2022-12-27T06:07:51.022119Z"
    },
    "papermill": {
     "duration": 4095.649369,
     "end_time": "2022-12-27T06:07:51.026054",
     "exception": false,
     "start_time": "2022-12-27T04:59:35.376685",
     "status": "completed"
    },
    "tags": []
   },
   "outputs": [
    {
     "name": "stdout",
     "output_type": "stream",
     "text": [
      "eval_score_matrix_foldout with python\r\n",
      "n_users=40387, n_items=1855595\r\n",
      "n_interactions=103932\r\n",
      "n_train=49623, n_test=54309, sparsity=0.00000\r\n",
      "already create adjacency matrix (1895982, 1895982) 4083.2692527770996\r\n",
      "generate single-normalized adjacency matrix.\r\n",
      "/kaggle/working/LightGCN/utility/load_data.py:126: RuntimeWarning: divide by zero encountered in power\r\n",
      "  d_inv = np.power(rowsum, -1).flatten()\r\n",
      "generate single-normalized adjacency matrix.\r\n",
      "already normalize adjacency matrix 0.49552106857299805\r\n",
      "/kaggle/working/LightGCN/utility/load_data.py:96: RuntimeWarning: divide by zero encountered in power\r\n",
      "  d_inv = np.power(rowsum, -0.5).flatten()\r\n",
      "generate pre adjacency matrix.\r\n",
      "use the pre adjcency matrix\r\n",
      "Traceback (most recent call last):\r\n",
      "  File \"LightGCN.py\", line 462, in <module>\r\n",
      "    model = LightGCN(data_config=config, pretrain_data=pretrain_data)\r\n",
      "  File \"LightGCN.py\", line 51, in __init__\r\n",
      "    self.users = tf.placeholder(tf.int32, shape=(None,))\r\n",
      "AttributeError: module 'tensorflow' has no attribute 'placeholder'\r\n"
     ]
    }
   ],
   "source": [
    "!python LightGCN.py --dataset valid --regs [1e-4] --embed_size 64 --layer_size [64,64,64] --lr 0.001 --batch_size 8192 --epoch 1000\n"
   ]
  },
  {
   "cell_type": "code",
   "execution_count": 8,
   "id": "0248f51a",
   "metadata": {
    "execution": {
     "iopub.execute_input": "2022-12-27T06:07:51.036127Z",
     "iopub.status.busy": "2022-12-27T06:07:51.035786Z",
     "iopub.status.idle": "2022-12-27T06:07:52.011366Z",
     "shell.execute_reply": "2022-12-27T06:07:52.010209Z"
    },
    "papermill": {
     "duration": 0.983612,
     "end_time": "2022-12-27T06:07:52.014022",
     "exception": false,
     "start_time": "2022-12-27T06:07:51.030410",
     "status": "completed"
    },
    "tags": []
   },
   "outputs": [
    {
     "name": "stdout",
     "output_type": "stream",
     "text": [
      "0 990658 1033148 1199737\r\n",
      "1 1366413\r\n",
      "2 1711586\r\n",
      "3 52798\r\n",
      "4 1849620\r\n",
      "5 1724341 893699\r\n",
      "6 1812034\r\n",
      "7 1072244 1741607\r\n",
      "8 291698\r\n",
      "9 1498975\r\n"
     ]
    }
   ],
   "source": [
    "!head Data/valid/train.txt"
   ]
  },
  {
   "cell_type": "code",
   "execution_count": 9,
   "id": "2f7cfc5f",
   "metadata": {
    "execution": {
     "iopub.execute_input": "2022-12-27T06:07:52.024740Z",
     "iopub.status.busy": "2022-12-27T06:07:52.023788Z",
     "iopub.status.idle": "2022-12-27T06:07:53.009939Z",
     "shell.execute_reply": "2022-12-27T06:07:53.008763Z"
    },
    "papermill": {
     "duration": 0.994053,
     "end_time": "2022-12-27T06:07:53.012411",
     "exception": false,
     "start_time": "2022-12-27T06:07:52.018358",
     "status": "completed"
    },
    "tags": []
   },
   "outputs": [
    {
     "name": "stdout",
     "output_type": "stream",
     "text": [
      "Data  LightGCN.py  README.md  evaluator  setup.py  utility\r\n"
     ]
    }
   ],
   "source": [
    "!ls"
   ]
  }
 ],
 "metadata": {
  "kernelspec": {
   "display_name": "Python 3",
   "language": "python",
   "name": "python3"
  },
  "language_info": {
   "codemirror_mode": {
    "name": "ipython",
    "version": 3
   },
   "file_extension": ".py",
   "mimetype": "text/x-python",
   "name": "python",
   "nbconvert_exporter": "python",
   "pygments_lexer": "ipython3",
   "version": "3.7.12"
  },
  "papermill": {
   "default_parameters": {},
   "duration": 4368.870271,
   "end_time": "2022-12-27T06:07:55.248748",
   "environment_variables": {},
   "exception": null,
   "input_path": "__notebook__.ipynb",
   "output_path": "__notebook__.ipynb",
   "parameters": {},
   "start_time": "2022-12-27T04:55:06.378477",
   "version": "2.3.4"
  },
  "widgets": {
   "application/vnd.jupyter.widget-state+json": {
    "state": {
     "0606a6c697de4958a15808c7aa21be15": {
      "model_module": "@jupyter-widgets/controls",
      "model_module_version": "1.5.0",
      "model_name": "HTMLModel",
      "state": {
       "_dom_classes": [],
       "_model_module": "@jupyter-widgets/controls",
       "_model_module_version": "1.5.0",
       "_model_name": "HTMLModel",
       "_view_count": null,
       "_view_module": "@jupyter-widgets/controls",
       "_view_module_version": "1.5.0",
       "_view_name": "HTMLView",
       "description": "",
       "description_tooltip": null,
       "layout": "IPY_MODEL_8d609378e2154dafb1a14e8df1cd01cf",
       "placeholder": "​",
       "style": "IPY_MODEL_dfcb2ada3fd84dc1b599159cd74dcef6",
       "value": " 12/? [02:18&lt;00:00, 11.20s/it]"
      }
     },
     "1136b308df8d46c58ebfc7b2f09a1602": {
      "model_module": "@jupyter-widgets/controls",
      "model_module_version": "1.5.0",
      "model_name": "FloatProgressModel",
      "state": {
       "_dom_classes": [],
       "_model_module": "@jupyter-widgets/controls",
       "_model_module_version": "1.5.0",
       "_model_name": "FloatProgressModel",
       "_view_count": null,
       "_view_module": "@jupyter-widgets/controls",
       "_view_module_version": "1.5.0",
       "_view_name": "ProgressView",
       "bar_style": "success",
       "description": "",
       "description_tooltip": null,
       "layout": "IPY_MODEL_312b001f412748e2b28af8748a7ece20",
       "max": 1.0,
       "min": 0.0,
       "orientation": "horizontal",
       "style": "IPY_MODEL_6d54b8dea97b4769a6642ea1b088c9ca",
       "value": 1.0
      }
     },
     "125d2e237edb4fc3831b9b585c1b3108": {
      "model_module": "@jupyter-widgets/controls",
      "model_module_version": "1.5.0",
      "model_name": "ProgressStyleModel",
      "state": {
       "_model_module": "@jupyter-widgets/controls",
       "_model_module_version": "1.5.0",
       "_model_name": "ProgressStyleModel",
       "_view_count": null,
       "_view_module": "@jupyter-widgets/base",
       "_view_module_version": "1.2.0",
       "_view_name": "StyleView",
       "bar_color": null,
       "description_width": ""
      }
     },
     "1951bb146ce74320b2ab48b645663ffc": {
      "model_module": "@jupyter-widgets/controls",
      "model_module_version": "1.5.0",
      "model_name": "HTMLModel",
      "state": {
       "_dom_classes": [],
       "_model_module": "@jupyter-widgets/controls",
       "_model_module_version": "1.5.0",
       "_model_name": "HTMLModel",
       "_view_count": null,
       "_view_module": "@jupyter-widgets/controls",
       "_view_module_version": "1.5.0",
       "_view_name": "HTMLView",
       "description": "",
       "description_tooltip": null,
       "layout": "IPY_MODEL_3269d8a45c8644fb9338906ec2a57855",
       "placeholder": "​",
       "style": "IPY_MODEL_644f44680116464bad6a295ee04d3476",
       "value": ""
      }
     },
     "213b955ba4074cb4bec79a45a5e214a5": {
      "model_module": "@jupyter-widgets/base",
      "model_module_version": "1.2.0",
      "model_name": "LayoutModel",
      "state": {
       "_model_module": "@jupyter-widgets/base",
       "_model_module_version": "1.2.0",
       "_model_name": "LayoutModel",
       "_view_count": null,
       "_view_module": "@jupyter-widgets/base",
       "_view_module_version": "1.2.0",
       "_view_name": "LayoutView",
       "align_content": null,
       "align_items": null,
       "align_self": null,
       "border": null,
       "bottom": null,
       "display": null,
       "flex": null,
       "flex_flow": null,
       "grid_area": null,
       "grid_auto_columns": null,
       "grid_auto_flow": null,
       "grid_auto_rows": null,
       "grid_column": null,
       "grid_gap": null,
       "grid_row": null,
       "grid_template_areas": null,
       "grid_template_columns": null,
       "grid_template_rows": null,
       "height": null,
       "justify_content": null,
       "justify_items": null,
       "left": null,
       "margin": null,
       "max_height": null,
       "max_width": null,
       "min_height": null,
       "min_width": null,
       "object_fit": null,
       "object_position": null,
       "order": null,
       "overflow": null,
       "overflow_x": null,
       "overflow_y": null,
       "padding": null,
       "right": null,
       "top": null,
       "visibility": null,
       "width": null
      }
     },
     "312b001f412748e2b28af8748a7ece20": {
      "model_module": "@jupyter-widgets/base",
      "model_module_version": "1.2.0",
      "model_name": "LayoutModel",
      "state": {
       "_model_module": "@jupyter-widgets/base",
       "_model_module_version": "1.2.0",
       "_model_name": "LayoutModel",
       "_view_count": null,
       "_view_module": "@jupyter-widgets/base",
       "_view_module_version": "1.2.0",
       "_view_name": "LayoutView",
       "align_content": null,
       "align_items": null,
       "align_self": null,
       "border": null,
       "bottom": null,
       "display": null,
       "flex": null,
       "flex_flow": null,
       "grid_area": null,
       "grid_auto_columns": null,
       "grid_auto_flow": null,
       "grid_auto_rows": null,
       "grid_column": null,
       "grid_gap": null,
       "grid_row": null,
       "grid_template_areas": null,
       "grid_template_columns": null,
       "grid_template_rows": null,
       "height": null,
       "justify_content": null,
       "justify_items": null,
       "left": null,
       "margin": null,
       "max_height": null,
       "max_width": null,
       "min_height": null,
       "min_width": null,
       "object_fit": null,
       "object_position": null,
       "order": null,
       "overflow": null,
       "overflow_x": null,
       "overflow_y": null,
       "padding": null,
       "right": null,
       "top": null,
       "visibility": null,
       "width": "20px"
      }
     },
     "3269d8a45c8644fb9338906ec2a57855": {
      "model_module": "@jupyter-widgets/base",
      "model_module_version": "1.2.0",
      "model_name": "LayoutModel",
      "state": {
       "_model_module": "@jupyter-widgets/base",
       "_model_module_version": "1.2.0",
       "_model_name": "LayoutModel",
       "_view_count": null,
       "_view_module": "@jupyter-widgets/base",
       "_view_module_version": "1.2.0",
       "_view_name": "LayoutView",
       "align_content": null,
       "align_items": null,
       "align_self": null,
       "border": null,
       "bottom": null,
       "display": null,
       "flex": null,
       "flex_flow": null,
       "grid_area": null,
       "grid_auto_columns": null,
       "grid_auto_flow": null,
       "grid_auto_rows": null,
       "grid_column": null,
       "grid_gap": null,
       "grid_row": null,
       "grid_template_areas": null,
       "grid_template_columns": null,
       "grid_template_rows": null,
       "height": null,
       "justify_content": null,
       "justify_items": null,
       "left": null,
       "margin": null,
       "max_height": null,
       "max_width": null,
       "min_height": null,
       "min_width": null,
       "object_fit": null,
       "object_position": null,
       "order": null,
       "overflow": null,
       "overflow_x": null,
       "overflow_y": null,
       "padding": null,
       "right": null,
       "top": null,
       "visibility": null,
       "width": null
      }
     },
     "644f44680116464bad6a295ee04d3476": {
      "model_module": "@jupyter-widgets/controls",
      "model_module_version": "1.5.0",
      "model_name": "DescriptionStyleModel",
      "state": {
       "_model_module": "@jupyter-widgets/controls",
       "_model_module_version": "1.5.0",
       "_model_name": "DescriptionStyleModel",
       "_view_count": null,
       "_view_module": "@jupyter-widgets/base",
       "_view_module_version": "1.2.0",
       "_view_name": "StyleView",
       "description_width": ""
      }
     },
     "676b55bbd4154d85b0f3bd6544f5255c": {
      "model_module": "@jupyter-widgets/base",
      "model_module_version": "1.2.0",
      "model_name": "LayoutModel",
      "state": {
       "_model_module": "@jupyter-widgets/base",
       "_model_module_version": "1.2.0",
       "_model_name": "LayoutModel",
       "_view_count": null,
       "_view_module": "@jupyter-widgets/base",
       "_view_module_version": "1.2.0",
       "_view_name": "LayoutView",
       "align_content": null,
       "align_items": null,
       "align_self": null,
       "border": null,
       "bottom": null,
       "display": null,
       "flex": null,
       "flex_flow": null,
       "grid_area": null,
       "grid_auto_columns": null,
       "grid_auto_flow": null,
       "grid_auto_rows": null,
       "grid_column": null,
       "grid_gap": null,
       "grid_row": null,
       "grid_template_areas": null,
       "grid_template_columns": null,
       "grid_template_rows": null,
       "height": null,
       "justify_content": null,
       "justify_items": null,
       "left": null,
       "margin": null,
       "max_height": null,
       "max_width": null,
       "min_height": null,
       "min_width": null,
       "object_fit": null,
       "object_position": null,
       "order": null,
       "overflow": null,
       "overflow_x": null,
       "overflow_y": null,
       "padding": null,
       "right": null,
       "top": null,
       "visibility": null,
       "width": null
      }
     },
     "6d54b8dea97b4769a6642ea1b088c9ca": {
      "model_module": "@jupyter-widgets/controls",
      "model_module_version": "1.5.0",
      "model_name": "ProgressStyleModel",
      "state": {
       "_model_module": "@jupyter-widgets/controls",
       "_model_module_version": "1.5.0",
       "_model_name": "ProgressStyleModel",
       "_view_count": null,
       "_view_module": "@jupyter-widgets/base",
       "_view_module_version": "1.2.0",
       "_view_name": "StyleView",
       "bar_color": null,
       "description_width": ""
      }
     },
     "77baee1ca06e4113a7517d2f9fa70dfd": {
      "model_module": "@jupyter-widgets/controls",
      "model_module_version": "1.5.0",
      "model_name": "DescriptionStyleModel",
      "state": {
       "_model_module": "@jupyter-widgets/controls",
       "_model_module_version": "1.5.0",
       "_model_name": "DescriptionStyleModel",
       "_view_count": null,
       "_view_module": "@jupyter-widgets/base",
       "_view_module_version": "1.2.0",
       "_view_name": "StyleView",
       "description_width": ""
      }
     },
     "81984ea86b84406bb78a26fffde3f50e": {
      "model_module": "@jupyter-widgets/controls",
      "model_module_version": "1.5.0",
      "model_name": "FloatProgressModel",
      "state": {
       "_dom_classes": [],
       "_model_module": "@jupyter-widgets/controls",
       "_model_module_version": "1.5.0",
       "_model_name": "FloatProgressModel",
       "_view_count": null,
       "_view_module": "@jupyter-widgets/controls",
       "_view_module_version": "1.5.0",
       "_view_name": "ProgressView",
       "bar_style": "success",
       "description": "",
       "description_tooltip": null,
       "layout": "IPY_MODEL_f37e826c1f584fb79854f3989044a5c8",
       "max": 1.0,
       "min": 0.0,
       "orientation": "horizontal",
       "style": "IPY_MODEL_125d2e237edb4fc3831b9b585c1b3108",
       "value": 1.0
      }
     },
     "8d609378e2154dafb1a14e8df1cd01cf": {
      "model_module": "@jupyter-widgets/base",
      "model_module_version": "1.2.0",
      "model_name": "LayoutModel",
      "state": {
       "_model_module": "@jupyter-widgets/base",
       "_model_module_version": "1.2.0",
       "_model_name": "LayoutModel",
       "_view_count": null,
       "_view_module": "@jupyter-widgets/base",
       "_view_module_version": "1.2.0",
       "_view_name": "LayoutView",
       "align_content": null,
       "align_items": null,
       "align_self": null,
       "border": null,
       "bottom": null,
       "display": null,
       "flex": null,
       "flex_flow": null,
       "grid_area": null,
       "grid_auto_columns": null,
       "grid_auto_flow": null,
       "grid_auto_rows": null,
       "grid_column": null,
       "grid_gap": null,
       "grid_row": null,
       "grid_template_areas": null,
       "grid_template_columns": null,
       "grid_template_rows": null,
       "height": null,
       "justify_content": null,
       "justify_items": null,
       "left": null,
       "margin": null,
       "max_height": null,
       "max_width": null,
       "min_height": null,
       "min_width": null,
       "object_fit": null,
       "object_position": null,
       "order": null,
       "overflow": null,
       "overflow_x": null,
       "overflow_y": null,
       "padding": null,
       "right": null,
       "top": null,
       "visibility": null,
       "width": null
      }
     },
     "aebc4d6149fd4625a0cef200e0fb96d1": {
      "model_module": "@jupyter-widgets/base",
      "model_module_version": "1.2.0",
      "model_name": "LayoutModel",
      "state": {
       "_model_module": "@jupyter-widgets/base",
       "_model_module_version": "1.2.0",
       "_model_name": "LayoutModel",
       "_view_count": null,
       "_view_module": "@jupyter-widgets/base",
       "_view_module_version": "1.2.0",
       "_view_name": "LayoutView",
       "align_content": null,
       "align_items": null,
       "align_self": null,
       "border": null,
       "bottom": null,
       "display": null,
       "flex": null,
       "flex_flow": null,
       "grid_area": null,
       "grid_auto_columns": null,
       "grid_auto_flow": null,
       "grid_auto_rows": null,
       "grid_column": null,
       "grid_gap": null,
       "grid_row": null,
       "grid_template_areas": null,
       "grid_template_columns": null,
       "grid_template_rows": null,
       "height": null,
       "justify_content": null,
       "justify_items": null,
       "left": null,
       "margin": null,
       "max_height": null,
       "max_width": null,
       "min_height": null,
       "min_width": null,
       "object_fit": null,
       "object_position": null,
       "order": null,
       "overflow": null,
       "overflow_x": null,
       "overflow_y": null,
       "padding": null,
       "right": null,
       "top": null,
       "visibility": null,
       "width": null
      }
     },
     "becc0809b99447e3b9c724a641ad537f": {
      "model_module": "@jupyter-widgets/controls",
      "model_module_version": "1.5.0",
      "model_name": "HBoxModel",
      "state": {
       "_dom_classes": [],
       "_model_module": "@jupyter-widgets/controls",
       "_model_module_version": "1.5.0",
       "_model_name": "HBoxModel",
       "_view_count": null,
       "_view_module": "@jupyter-widgets/controls",
       "_view_module_version": "1.5.0",
       "_view_name": "HBoxView",
       "box_style": "",
       "children": [
        "IPY_MODEL_1951bb146ce74320b2ab48b645663ffc",
        "IPY_MODEL_81984ea86b84406bb78a26fffde3f50e",
        "IPY_MODEL_0606a6c697de4958a15808c7aa21be15"
       ],
       "layout": "IPY_MODEL_d911bee3b07c4a71a3f7f2ddda904050"
      }
     },
     "c1b1cdc8566242e19446863d13567f9a": {
      "model_module": "@jupyter-widgets/controls",
      "model_module_version": "1.5.0",
      "model_name": "DescriptionStyleModel",
      "state": {
       "_model_module": "@jupyter-widgets/controls",
       "_model_module_version": "1.5.0",
       "_model_name": "DescriptionStyleModel",
       "_view_count": null,
       "_view_module": "@jupyter-widgets/base",
       "_view_module_version": "1.2.0",
       "_view_name": "StyleView",
       "description_width": ""
      }
     },
     "c2aacec73bee4754ba7460124a071805": {
      "model_module": "@jupyter-widgets/controls",
      "model_module_version": "1.5.0",
      "model_name": "HTMLModel",
      "state": {
       "_dom_classes": [],
       "_model_module": "@jupyter-widgets/controls",
       "_model_module_version": "1.5.0",
       "_model_name": "HTMLModel",
       "_view_count": null,
       "_view_module": "@jupyter-widgets/controls",
       "_view_module_version": "1.5.0",
       "_view_name": "HTMLView",
       "description": "",
       "description_tooltip": null,
       "layout": "IPY_MODEL_aebc4d6149fd4625a0cef200e0fb96d1",
       "placeholder": "​",
       "style": "IPY_MODEL_c1b1cdc8566242e19446863d13567f9a",
       "value": " 12/? [01:55&lt;00:00,  9.27s/it]"
      }
     },
     "c7374372e99c4773a6e3c65c672031d9": {
      "model_module": "@jupyter-widgets/controls",
      "model_module_version": "1.5.0",
      "model_name": "HTMLModel",
      "state": {
       "_dom_classes": [],
       "_model_module": "@jupyter-widgets/controls",
       "_model_module_version": "1.5.0",
       "_model_name": "HTMLModel",
       "_view_count": null,
       "_view_module": "@jupyter-widgets/controls",
       "_view_module_version": "1.5.0",
       "_view_name": "HTMLView",
       "description": "",
       "description_tooltip": null,
       "layout": "IPY_MODEL_676b55bbd4154d85b0f3bd6544f5255c",
       "placeholder": "​",
       "style": "IPY_MODEL_77baee1ca06e4113a7517d2f9fa70dfd",
       "value": ""
      }
     },
     "c9ad8765d01c4dc08999146b6d6c8105": {
      "model_module": "@jupyter-widgets/controls",
      "model_module_version": "1.5.0",
      "model_name": "HBoxModel",
      "state": {
       "_dom_classes": [],
       "_model_module": "@jupyter-widgets/controls",
       "_model_module_version": "1.5.0",
       "_model_name": "HBoxModel",
       "_view_count": null,
       "_view_module": "@jupyter-widgets/controls",
       "_view_module_version": "1.5.0",
       "_view_name": "HBoxView",
       "box_style": "",
       "children": [
        "IPY_MODEL_c7374372e99c4773a6e3c65c672031d9",
        "IPY_MODEL_1136b308df8d46c58ebfc7b2f09a1602",
        "IPY_MODEL_c2aacec73bee4754ba7460124a071805"
       ],
       "layout": "IPY_MODEL_213b955ba4074cb4bec79a45a5e214a5"
      }
     },
     "d911bee3b07c4a71a3f7f2ddda904050": {
      "model_module": "@jupyter-widgets/base",
      "model_module_version": "1.2.0",
      "model_name": "LayoutModel",
      "state": {
       "_model_module": "@jupyter-widgets/base",
       "_model_module_version": "1.2.0",
       "_model_name": "LayoutModel",
       "_view_count": null,
       "_view_module": "@jupyter-widgets/base",
       "_view_module_version": "1.2.0",
       "_view_name": "LayoutView",
       "align_content": null,
       "align_items": null,
       "align_self": null,
       "border": null,
       "bottom": null,
       "display": null,
       "flex": null,
       "flex_flow": null,
       "grid_area": null,
       "grid_auto_columns": null,
       "grid_auto_flow": null,
       "grid_auto_rows": null,
       "grid_column": null,
       "grid_gap": null,
       "grid_row": null,
       "grid_template_areas": null,
       "grid_template_columns": null,
       "grid_template_rows": null,
       "height": null,
       "justify_content": null,
       "justify_items": null,
       "left": null,
       "margin": null,
       "max_height": null,
       "max_width": null,
       "min_height": null,
       "min_width": null,
       "object_fit": null,
       "object_position": null,
       "order": null,
       "overflow": null,
       "overflow_x": null,
       "overflow_y": null,
       "padding": null,
       "right": null,
       "top": null,
       "visibility": null,
       "width": null
      }
     },
     "dfcb2ada3fd84dc1b599159cd74dcef6": {
      "model_module": "@jupyter-widgets/controls",
      "model_module_version": "1.5.0",
      "model_name": "DescriptionStyleModel",
      "state": {
       "_model_module": "@jupyter-widgets/controls",
       "_model_module_version": "1.5.0",
       "_model_name": "DescriptionStyleModel",
       "_view_count": null,
       "_view_module": "@jupyter-widgets/base",
       "_view_module_version": "1.2.0",
       "_view_name": "StyleView",
       "description_width": ""
      }
     },
     "f37e826c1f584fb79854f3989044a5c8": {
      "model_module": "@jupyter-widgets/base",
      "model_module_version": "1.2.0",
      "model_name": "LayoutModel",
      "state": {
       "_model_module": "@jupyter-widgets/base",
       "_model_module_version": "1.2.0",
       "_model_name": "LayoutModel",
       "_view_count": null,
       "_view_module": "@jupyter-widgets/base",
       "_view_module_version": "1.2.0",
       "_view_name": "LayoutView",
       "align_content": null,
       "align_items": null,
       "align_self": null,
       "border": null,
       "bottom": null,
       "display": null,
       "flex": null,
       "flex_flow": null,
       "grid_area": null,
       "grid_auto_columns": null,
       "grid_auto_flow": null,
       "grid_auto_rows": null,
       "grid_column": null,
       "grid_gap": null,
       "grid_row": null,
       "grid_template_areas": null,
       "grid_template_columns": null,
       "grid_template_rows": null,
       "height": null,
       "justify_content": null,
       "justify_items": null,
       "left": null,
       "margin": null,
       "max_height": null,
       "max_width": null,
       "min_height": null,
       "min_width": null,
       "object_fit": null,
       "object_position": null,
       "order": null,
       "overflow": null,
       "overflow_x": null,
       "overflow_y": null,
       "padding": null,
       "right": null,
       "top": null,
       "visibility": null,
       "width": "20px"
      }
     }
    },
    "version_major": 2,
    "version_minor": 0
   }
  }
 },
 "nbformat": 4,
 "nbformat_minor": 5
}
